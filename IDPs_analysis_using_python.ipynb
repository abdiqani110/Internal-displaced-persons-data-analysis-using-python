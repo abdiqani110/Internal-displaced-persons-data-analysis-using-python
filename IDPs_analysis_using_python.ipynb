{
 "cells": [
  {
   "cell_type": "markdown",
   "id": "f701e708",
   "metadata": {},
   "source": [
    "## Dataset: Internally Displaced Persons (IDPs) in Somalia. "
   ]
  },
  {
   "cell_type": "markdown",
   "id": "39209343",
   "metadata": {},
   "source": [
    "Data collated by UNHCR - Protection and Return Monitoring Network (PRMN), contains internally displaced persons. The data includes regions (departure and arrival), districts (departure and arrival), reasons of displacements and the IDPs from January 2016 - October 2022."
   ]
  },
  {
   "cell_type": "markdown",
   "id": "49ce7b3f",
   "metadata": {},
   "source": [
    "**you can find the official dataset on this link** [Somalia: Internally Displaced Persons (IDPs)](https://data.humdata.org/dataset/475e2e3c-3cec-4961-b73c-d8e68791ce60?_gl=1*1an7oww*_ga*NDA4MTY2NTk5LjE2Njg0OTMzNTM.*_ga_E60ZNX2F68*MTY2OTQ1ODg4MS40LjAuMTY2OTQ1OTA2Ni42MC4wLjA.)<br>\n",
    "**note:** the above link data may be apdated and different from the one we have analyzing here!"
   ]
  },
  {
   "cell_type": "markdown",
   "id": "7ec4818f",
   "metadata": {},
   "source": [
    "### Task\n",
    "\n",
    "This analysis explores the [Somalia: Internally Displaced Persons (IDPs)](https://data.humdata.org/dataset/475e2e3c-3cec-4961-b73c-d8e68791ce60?_gl=1*1an7oww*_ga*NDA4MTY2NTk5LjE2Njg0OTMzNTM.*_ga_E60ZNX2F68*MTY2OTQ1ODg4MS40LjAuMTY2OTQ1OTA2Ni42MC4wLjA.)\n",
    "dataset using python.\n",
    "\n",
    "### Table Of Contents\n",
    "\n",
    "- #### [Queries](#queries)\n",
    "- #### [Data Wrangling](#data-wrangling)\n",
    "- #### [Exploratory Data Analysis](#exploratory-analysis)\n",
    "- #### [Conclusions](#conclusion)"
   ]
  },
  {
   "cell_type": "markdown",
   "id": "6b10143f",
   "metadata": {},
   "source": [
    "### Data Attributes"
   ]
  },
  {
   "cell_type": "markdown",
   "id": "d2a19a70",
   "metadata": {},
   "source": [
    "*    Month End   :   &emsp;  &emsp; &emsp;  &emsp;  &emsp;  &emsp; the last calendar day of each month.\n",
    "*    Year Week  :    &emsp;  &emsp; &emsp; &emsp;  &emsp;  &emsp; the year week are numbered from week 1 to week 52 or 53, most years have 52 weeks. \n",
    "*    Year  :   &emsp;  &emsp; &nbsp; &emsp; &emsp;  &emsp;  &emsp;  &emsp;  &emsp; the year data collected.\n",
    "*    Current (Arrival) Region :  &nbsp; &nbsp; &emsp; the region people are arrived.\n",
    "*    Current (Arrival) District : &nbsp; &nbsp; &emsp; the district people are arrived.\n",
    "*    Previous (Departure) Region  :   the region people were come from.\n",
    "*    Previous (Departure) District: &nbsp;  the district people were come from.\n",
    "*    Reason: &nbsp; &emsp; &emsp;&emsp;&emsp; &emsp;&emsp; &emsp;  &emsp; the reason why the displaced people move from their original places.\n",
    "*    Current (Arrival) Priority Need :   the priority needs for the displaced peaple.\n",
    "*    Number of Individuals: &nbsp; &nbsp;&nbsp; &emsp;  &emsp; the number of persons registred with in a year-week (7 day)."
   ]
  },
  {
   "cell_type": "markdown",
   "id": "75161d03",
   "metadata": {},
   "source": [
    "### Queries <a id='queries'></a>"
   ]
  },
  {
   "cell_type": "markdown",
   "id": "5627543f",
   "metadata": {},
   "source": [
    "Based on the dataset, we are interested in the queries below:"
   ]
  },
  {
   "cell_type": "markdown",
   "id": "ca3e9b6f",
   "metadata": {},
   "source": [
    "1. Tirada guud ee dadka qaxay?<br>\n",
    "   What is the total number of internal displaced persons?<br><br>\n",
    "\n",
    "2. Gobolkee ugu badan ee laga qaxay?<br>\n",
    "   What is the most departured region?<br><br>\n",
    "\n",
    "3. Gobolkee ugu badan ee loo qaxay?<br>\n",
    "   What is the most arrived region?<br><br>\n",
    "\n",
    "4. Sanadka ugu badan ee la qaxay?<br>\n",
    "   What is the most displaced year?<br><br>\n",
    "\n",
    "5. Sababta ugu badan ee loo qaxay?<br>\n",
    "   What is the most reason for displaced people?<br><br>\n",
    "\n",
    "6. Baahida ugu badan ee haysata dadka qaxay?<br>\n",
    "   What is the most priority need for the displaced people?"
   ]
  },
  {
   "cell_type": "markdown",
   "id": "6a7d9b36",
   "metadata": {},
   "source": [
    "### Data Wrangling <a id='data-wrangling'></a>\n",
    "This is the stage where we clean, organize and structure our data into a desired format for beter decision making. Here, we will load the various libraries that will aid our analysis"
   ]
  },
  {
   "cell_type": "markdown",
   "id": "7546cf06",
   "metadata": {},
   "source": [
    "##### Preparing the Environment and upload the data in our environment"
   ]
  },
  {
   "cell_type": "code",
   "execution_count": 1,
   "id": "20197433",
   "metadata": {
    "scrolled": true
   },
   "outputs": [
    {
     "data": {
      "text/html": [
       "<div>\n",
       "<style scoped>\n",
       "    .dataframe tbody tr th:only-of-type {\n",
       "        vertical-align: middle;\n",
       "    }\n",
       "\n",
       "    .dataframe tbody tr th {\n",
       "        vertical-align: top;\n",
       "    }\n",
       "\n",
       "    .dataframe thead th {\n",
       "        text-align: right;\n",
       "    }\n",
       "</style>\n",
       "<table border=\"1\" class=\"dataframe\">\n",
       "  <thead>\n",
       "    <tr style=\"text-align: right;\">\n",
       "      <th></th>\n",
       "      <th>Month End</th>\n",
       "      <th>Year Week</th>\n",
       "      <th>Year</th>\n",
       "      <th>Current (Arrival) Region</th>\n",
       "      <th>Current (Arrival) District</th>\n",
       "      <th>Previous (Departure) Region</th>\n",
       "      <th>Previous (Departure) District</th>\n",
       "      <th>Reason</th>\n",
       "      <th>Current (Arrival) Priority Need</th>\n",
       "      <th>Number of Individuals</th>\n",
       "    </tr>\n",
       "  </thead>\n",
       "  <tbody>\n",
       "    <tr>\n",
       "      <th>0</th>\n",
       "      <td>30/04/2016</td>\n",
       "      <td>201614</td>\n",
       "      <td>2016</td>\n",
       "      <td>Awdal</td>\n",
       "      <td>Borama</td>\n",
       "      <td>Awdal</td>\n",
       "      <td>Borama</td>\n",
       "      <td>Drought related</td>\n",
       "      <td>Food</td>\n",
       "      <td>6</td>\n",
       "    </tr>\n",
       "    <tr>\n",
       "      <th>1</th>\n",
       "      <td>30/04/2016</td>\n",
       "      <td>201617</td>\n",
       "      <td>2016</td>\n",
       "      <td>Awdal</td>\n",
       "      <td>Borama</td>\n",
       "      <td>Awdal</td>\n",
       "      <td>Borama</td>\n",
       "      <td>Drought related</td>\n",
       "      <td>Livelihood Support</td>\n",
       "      <td>7</td>\n",
       "    </tr>\n",
       "    <tr>\n",
       "      <th>2</th>\n",
       "      <td>30/04/2016</td>\n",
       "      <td>201616</td>\n",
       "      <td>2016</td>\n",
       "      <td>Awdal</td>\n",
       "      <td>Borama</td>\n",
       "      <td>Awdal</td>\n",
       "      <td>Borama</td>\n",
       "      <td>Flood</td>\n",
       "      <td>Food</td>\n",
       "      <td>5</td>\n",
       "    </tr>\n",
       "    <tr>\n",
       "      <th>3</th>\n",
       "      <td>30/04/2016</td>\n",
       "      <td>201614</td>\n",
       "      <td>2016</td>\n",
       "      <td>Awdal</td>\n",
       "      <td>Borama</td>\n",
       "      <td>Awdal</td>\n",
       "      <td>Lughaye</td>\n",
       "      <td>Drought related</td>\n",
       "      <td>Food</td>\n",
       "      <td>8</td>\n",
       "    </tr>\n",
       "    <tr>\n",
       "      <th>4</th>\n",
       "      <td>31/03/2016</td>\n",
       "      <td>201611</td>\n",
       "      <td>2016</td>\n",
       "      <td>Awdal</td>\n",
       "      <td>Borama</td>\n",
       "      <td>Awdal</td>\n",
       "      <td>Lughaye</td>\n",
       "      <td>Drought related</td>\n",
       "      <td>Food</td>\n",
       "      <td>9</td>\n",
       "    </tr>\n",
       "  </tbody>\n",
       "</table>\n",
       "</div>"
      ],
      "text/plain": [
       "    Month End  Year Week  Year Current (Arrival) Region  \\\n",
       "0  30/04/2016     201614  2016                    Awdal   \n",
       "1  30/04/2016     201617  2016                    Awdal   \n",
       "2  30/04/2016     201616  2016                    Awdal   \n",
       "3  30/04/2016     201614  2016                    Awdal   \n",
       "4  31/03/2016     201611  2016                    Awdal   \n",
       "\n",
       "  Current (Arrival) District Previous (Departure) Region  \\\n",
       "0                     Borama                       Awdal   \n",
       "1                     Borama                       Awdal   \n",
       "2                     Borama                       Awdal   \n",
       "3                     Borama                       Awdal   \n",
       "4                     Borama                       Awdal   \n",
       "\n",
       "  Previous (Departure) District           Reason  \\\n",
       "0                        Borama  Drought related   \n",
       "1                        Borama  Drought related   \n",
       "2                        Borama            Flood   \n",
       "3                       Lughaye  Drought related   \n",
       "4                       Lughaye  Drought related   \n",
       "\n",
       "  Current (Arrival) Priority Need  Number of Individuals  \n",
       "0                            Food                      6  \n",
       "1              Livelihood Support                      7  \n",
       "2                            Food                      5  \n",
       "3                            Food                      8  \n",
       "4                            Food                      9  "
      ]
     },
     "execution_count": 1,
     "metadata": {},
     "output_type": "execute_result"
    }
   ],
   "source": [
    "# For data analysis, we import pandas library\n",
    "import pandas as pd\n",
    "\n",
    "# For numerical computation, we will use numpy library\n",
    "import numpy as np\n",
    "\n",
    "# For data visualization, we will use matplotlib and seaborn library\n",
    "import matplotlib.pyplot as plt\n",
    "\n",
    "# Read the data from local machine and display some first rows\n",
    "df= pd.read_csv('unhcr-prmn-displacement-dataset.csv')\n",
    "df.head()"
   ]
  },
  {
   "cell_type": "code",
   "execution_count": 2,
   "id": "9b114a8d",
   "metadata": {},
   "outputs": [
    {
     "data": {
      "text/html": [
       "<div>\n",
       "<style scoped>\n",
       "    .dataframe tbody tr th:only-of-type {\n",
       "        vertical-align: middle;\n",
       "    }\n",
       "\n",
       "    .dataframe tbody tr th {\n",
       "        vertical-align: top;\n",
       "    }\n",
       "\n",
       "    .dataframe thead th {\n",
       "        text-align: right;\n",
       "    }\n",
       "</style>\n",
       "<table border=\"1\" class=\"dataframe\">\n",
       "  <thead>\n",
       "    <tr style=\"text-align: right;\">\n",
       "      <th></th>\n",
       "      <th>Month End</th>\n",
       "      <th>Year Week</th>\n",
       "      <th>Year</th>\n",
       "      <th>Current (Arrival) Region</th>\n",
       "      <th>Current (Arrival) District</th>\n",
       "      <th>Previous (Departure) Region</th>\n",
       "      <th>Previous (Departure) District</th>\n",
       "      <th>Reason</th>\n",
       "      <th>Current (Arrival) Priority Need</th>\n",
       "      <th>Number of Individuals</th>\n",
       "    </tr>\n",
       "  </thead>\n",
       "  <tbody>\n",
       "    <tr>\n",
       "      <th>54325</th>\n",
       "      <td>31/01/2022</td>\n",
       "      <td>202202</td>\n",
       "      <td>2022</td>\n",
       "      <td>Woqooyi Galbeed</td>\n",
       "      <td>Hargeysa</td>\n",
       "      <td>Woqooyi Galbeed</td>\n",
       "      <td>Hargeysa</td>\n",
       "      <td>Other</td>\n",
       "      <td>Livelihood Support</td>\n",
       "      <td>16</td>\n",
       "    </tr>\n",
       "    <tr>\n",
       "      <th>54326</th>\n",
       "      <td>31/07/2022</td>\n",
       "      <td>202227</td>\n",
       "      <td>2022</td>\n",
       "      <td>Woqooyi Galbeed</td>\n",
       "      <td>Hargeysa</td>\n",
       "      <td>Woqooyi Galbeed</td>\n",
       "      <td>Hargeysa</td>\n",
       "      <td>Other</td>\n",
       "      <td>Livelihood Support</td>\n",
       "      <td>4</td>\n",
       "    </tr>\n",
       "    <tr>\n",
       "      <th>54327</th>\n",
       "      <td>30/06/2022</td>\n",
       "      <td>202224</td>\n",
       "      <td>2022</td>\n",
       "      <td>Woqooyi Galbeed</td>\n",
       "      <td>Hargeysa</td>\n",
       "      <td>Woqooyi Galbeed</td>\n",
       "      <td>Hargeysa</td>\n",
       "      <td>Other</td>\n",
       "      <td>Livelihood Support</td>\n",
       "      <td>3</td>\n",
       "    </tr>\n",
       "    <tr>\n",
       "      <th>54328</th>\n",
       "      <td>31/10/2022</td>\n",
       "      <td>202242</td>\n",
       "      <td>2022</td>\n",
       "      <td>Woqooyi Galbeed</td>\n",
       "      <td>Hargeysa</td>\n",
       "      <td>Woqooyi Galbeed</td>\n",
       "      <td>Hargeysa</td>\n",
       "      <td>Other</td>\n",
       "      <td>Livelihood Support</td>\n",
       "      <td>3</td>\n",
       "    </tr>\n",
       "    <tr>\n",
       "      <th>54329</th>\n",
       "      <td>30/06/2022</td>\n",
       "      <td>202224</td>\n",
       "      <td>2022</td>\n",
       "      <td>Woqooyi Galbeed</td>\n",
       "      <td>Hargeysa</td>\n",
       "      <td>Woqooyi Galbeed</td>\n",
       "      <td>Hargeysa</td>\n",
       "      <td>Other</td>\n",
       "      <td>Other</td>\n",
       "      <td>18</td>\n",
       "    </tr>\n",
       "  </tbody>\n",
       "</table>\n",
       "</div>"
      ],
      "text/plain": [
       "        Month End  Year Week  Year Current (Arrival) Region  \\\n",
       "54325  31/01/2022     202202  2022          Woqooyi Galbeed   \n",
       "54326  31/07/2022     202227  2022          Woqooyi Galbeed   \n",
       "54327  30/06/2022     202224  2022          Woqooyi Galbeed   \n",
       "54328  31/10/2022     202242  2022          Woqooyi Galbeed   \n",
       "54329  30/06/2022     202224  2022          Woqooyi Galbeed   \n",
       "\n",
       "      Current (Arrival) District Previous (Departure) Region  \\\n",
       "54325                   Hargeysa             Woqooyi Galbeed   \n",
       "54326                   Hargeysa             Woqooyi Galbeed   \n",
       "54327                   Hargeysa             Woqooyi Galbeed   \n",
       "54328                   Hargeysa             Woqooyi Galbeed   \n",
       "54329                   Hargeysa             Woqooyi Galbeed   \n",
       "\n",
       "      Previous (Departure) District Reason Current (Arrival) Priority Need  \\\n",
       "54325                      Hargeysa  Other              Livelihood Support   \n",
       "54326                      Hargeysa  Other              Livelihood Support   \n",
       "54327                      Hargeysa  Other              Livelihood Support   \n",
       "54328                      Hargeysa  Other              Livelihood Support   \n",
       "54329                      Hargeysa  Other                           Other   \n",
       "\n",
       "       Number of Individuals  \n",
       "54325                     16  \n",
       "54326                      4  \n",
       "54327                      3  \n",
       "54328                      3  \n",
       "54329                     18  "
      ]
     },
     "execution_count": 2,
     "metadata": {},
     "output_type": "execute_result"
    }
   ],
   "source": [
    "# Viewing the last 5 entries in this dataset\n",
    "df.tail()"
   ]
  },
  {
   "cell_type": "code",
   "execution_count": 3,
   "id": "cf3af6b6",
   "metadata": {
    "scrolled": false
   },
   "outputs": [
    {
     "name": "stdout",
     "output_type": "stream",
     "text": [
      "<class 'pandas.core.frame.DataFrame'>\n",
      "RangeIndex: 54330 entries, 0 to 54329\n",
      "Data columns (total 10 columns):\n",
      " #   Column                           Non-Null Count  Dtype \n",
      "---  ------                           --------------  ----- \n",
      " 0   Month End                        54330 non-null  object\n",
      " 1   Year Week                        54330 non-null  int64 \n",
      " 2   Year                             54330 non-null  int64 \n",
      " 3   Current (Arrival) Region         54330 non-null  object\n",
      " 4   Current (Arrival) District       54330 non-null  object\n",
      " 5   Previous (Departure) Region      54330 non-null  object\n",
      " 6   Previous (Departure) District    54330 non-null  object\n",
      " 7   Reason                           54330 non-null  object\n",
      " 8   Current (Arrival) Priority Need  54330 non-null  object\n",
      " 9   Number of Individuals            54330 non-null  int64 \n",
      "dtypes: int64(3), object(7)\n",
      "memory usage: 4.1+ MB\n"
     ]
    }
   ],
   "source": [
    "#basic information about the data\n",
    "df.info()"
   ]
  },
  {
   "cell_type": "markdown",
   "id": "c6418602",
   "metadata": {},
   "source": [
    "**Observations:**\n",
    "* There seem to be `No Null Counts` in the dataset"
   ]
  },
  {
   "cell_type": "code",
   "execution_count": 4,
   "id": "6e6aea87",
   "metadata": {
    "scrolled": true
   },
   "outputs": [
    {
     "name": "stdout",
     "output_type": "stream",
     "text": [
      "Number of Null Values: Month End                          0\n",
      "Year Week                          0\n",
      "Year                               0\n",
      "Current (Arrival) Region           0\n",
      "Current (Arrival) District         0\n",
      "Previous (Departure) Region        0\n",
      "Previous (Departure) District      0\n",
      "Reason                             0\n",
      "Current (Arrival) Priority Need    0\n",
      "Number of Individuals              0\n",
      "dtype: int64\n"
     ]
    }
   ],
   "source": [
    "#Cross Checking if there are null values in our dataset\n",
    "print('Number of Null Values: {}'.format(df.isna().sum()))"
   ]
  },
  {
   "cell_type": "code",
   "execution_count": 68,
   "id": "d9eded45",
   "metadata": {
    "scrolled": true
   },
   "outputs": [
    {
     "name": "stdout",
     "output_type": "stream",
     "text": [
      "(Rows, Columns): \n",
      " (54330, 12)\n"
     ]
    }
   ],
   "source": [
    "# How many rows and columns are in this dataset\n",
    "print('(Rows, Columns): \\n {}'.format(df.shape))"
   ]
  },
  {
   "cell_type": "markdown",
   "id": "9fdbdacf",
   "metadata": {},
   "source": [
    "> <b>Rows And Columns In This Dataset:</b>      \n",
    "Original Dataset: Total Rows And Columns is `(54330, 10).`  \n",
    "Updated Dataset: Total Rows And Columns is `(54330, 13).`  \n",
    "Deference is: `(3)` Columns."
   ]
  },
  {
   "cell_type": "code",
   "execution_count": 56,
   "id": "abd3151b",
   "metadata": {},
   "outputs": [
    {
     "name": "stdout",
     "output_type": "stream",
     "text": [
      "Total Entries Made in this Dataset: 651960\n"
     ]
    }
   ],
   "source": [
    "# Total Entries in this dataset (rows*columns)\n",
    "print('Total Entries Made in this Dataset: {}'.format(df.size))"
   ]
  },
  {
   "cell_type": "markdown",
   "id": "a381598d",
   "metadata": {},
   "source": [
    "> <b>Total Entries In This Dataset:</b>      \n",
    "Original Dataset: Total Entries Made is `543300.`  \n",
    "Updated Dataset: Total Entries Made is `651960.`  \n",
    "Deference is: `108,660` Entries."
   ]
  },
  {
   "cell_type": "code",
   "execution_count": 7,
   "id": "a4a68ff4",
   "metadata": {
    "scrolled": true
   },
   "outputs": [
    {
     "name": "stdout",
     "output_type": "stream",
     "text": [
      "Columns: \n",
      " Index(['Month End', 'Year Week', 'Year', 'Current (Arrival) Region',\n",
      "       'Current (Arrival) District', 'Previous (Departure) Region',\n",
      "       'Previous (Departure) District', 'Reason',\n",
      "       'Current (Arrival) Priority Need', 'Number of Individuals'],\n",
      "      dtype='object')\n"
     ]
    }
   ],
   "source": [
    "# lets view our columns\n",
    "print('Columns: \\n {}'.format(df.columns))"
   ]
  },
  {
   "cell_type": "code",
   "execution_count": 8,
   "id": "1a3fa502",
   "metadata": {},
   "outputs": [
    {
     "data": {
      "text/html": [
       "<div>\n",
       "<style scoped>\n",
       "    .dataframe tbody tr th:only-of-type {\n",
       "        vertical-align: middle;\n",
       "    }\n",
       "\n",
       "    .dataframe tbody tr th {\n",
       "        vertical-align: top;\n",
       "    }\n",
       "\n",
       "    .dataframe thead th {\n",
       "        text-align: right;\n",
       "    }\n",
       "</style>\n",
       "<table border=\"1\" class=\"dataframe\">\n",
       "  <thead>\n",
       "    <tr style=\"text-align: right;\">\n",
       "      <th></th>\n",
       "      <th>Month_end</th>\n",
       "      <th>Year_week</th>\n",
       "      <th>Year</th>\n",
       "      <th>Arrival_rigion</th>\n",
       "      <th>Arrival_district</th>\n",
       "      <th>Departure_region</th>\n",
       "      <th>Departure_district</th>\n",
       "      <th>Reason</th>\n",
       "      <th>Priority_need</th>\n",
       "      <th>No_of_individuals</th>\n",
       "    </tr>\n",
       "  </thead>\n",
       "  <tbody>\n",
       "    <tr>\n",
       "      <th>0</th>\n",
       "      <td>30/04/2016</td>\n",
       "      <td>201614</td>\n",
       "      <td>2016</td>\n",
       "      <td>Awdal</td>\n",
       "      <td>Borama</td>\n",
       "      <td>Awdal</td>\n",
       "      <td>Borama</td>\n",
       "      <td>Drought related</td>\n",
       "      <td>Food</td>\n",
       "      <td>6</td>\n",
       "    </tr>\n",
       "    <tr>\n",
       "      <th>1</th>\n",
       "      <td>30/04/2016</td>\n",
       "      <td>201617</td>\n",
       "      <td>2016</td>\n",
       "      <td>Awdal</td>\n",
       "      <td>Borama</td>\n",
       "      <td>Awdal</td>\n",
       "      <td>Borama</td>\n",
       "      <td>Drought related</td>\n",
       "      <td>Livelihood Support</td>\n",
       "      <td>7</td>\n",
       "    </tr>\n",
       "    <tr>\n",
       "      <th>2</th>\n",
       "      <td>30/04/2016</td>\n",
       "      <td>201616</td>\n",
       "      <td>2016</td>\n",
       "      <td>Awdal</td>\n",
       "      <td>Borama</td>\n",
       "      <td>Awdal</td>\n",
       "      <td>Borama</td>\n",
       "      <td>Flood</td>\n",
       "      <td>Food</td>\n",
       "      <td>5</td>\n",
       "    </tr>\n",
       "  </tbody>\n",
       "</table>\n",
       "</div>"
      ],
      "text/plain": [
       "    Month_end  Year_week  Year Arrival_rigion Arrival_district  \\\n",
       "0  30/04/2016     201614  2016          Awdal           Borama   \n",
       "1  30/04/2016     201617  2016          Awdal           Borama   \n",
       "2  30/04/2016     201616  2016          Awdal           Borama   \n",
       "\n",
       "  Departure_region Departure_district           Reason       Priority_need  \\\n",
       "0            Awdal             Borama  Drought related                Food   \n",
       "1            Awdal             Borama  Drought related  Livelihood Support   \n",
       "2            Awdal             Borama            Flood                Food   \n",
       "\n",
       "   No_of_individuals  \n",
       "0                  6  \n",
       "1                  7  \n",
       "2                  5  "
      ]
     },
     "execution_count": 8,
     "metadata": {},
     "output_type": "execute_result"
    }
   ],
   "source": [
    "# Rename the columns for better useable\n",
    "df.rename(columns={'Month End': 'Month_end','Year Week': 'Year_week', 'Current (Arrival) Region': 'Arrival_rigion', 'Current (Arrival) District': 'Arrival_district', 'Previous (Departure) Region': 'Departure_region', 'Previous (Departure) District': 'Departure_district', 'Current (Arrival) Priority Need': 'Priority_need', 'Number of Individuals': 'No_of_individuals'},  inplace=True)\n",
    "df.head(3)"
   ]
  },
  {
   "cell_type": "code",
   "execution_count": 9,
   "id": "9f9f7cf1",
   "metadata": {},
   "outputs": [
    {
     "data": {
      "text/html": [
       "<div>\n",
       "<style scoped>\n",
       "    .dataframe tbody tr th:only-of-type {\n",
       "        vertical-align: middle;\n",
       "    }\n",
       "\n",
       "    .dataframe tbody tr th {\n",
       "        vertical-align: top;\n",
       "    }\n",
       "\n",
       "    .dataframe thead th {\n",
       "        text-align: right;\n",
       "    }\n",
       "</style>\n",
       "<table border=\"1\" class=\"dataframe\">\n",
       "  <thead>\n",
       "    <tr style=\"text-align: right;\">\n",
       "      <th></th>\n",
       "      <th>Month_end</th>\n",
       "      <th>Year_week</th>\n",
       "      <th>Year</th>\n",
       "      <th>Arrival_rigion</th>\n",
       "      <th>Arrival_district</th>\n",
       "      <th>Departure_region</th>\n",
       "      <th>Departure_district</th>\n",
       "      <th>Reason</th>\n",
       "      <th>Priority_need</th>\n",
       "      <th>No_of_individuals</th>\n",
       "    </tr>\n",
       "  </thead>\n",
       "  <tbody>\n",
       "    <tr>\n",
       "      <th>1799</th>\n",
       "      <td>31/01/2016</td>\n",
       "      <td>201600</td>\n",
       "      <td>2016</td>\n",
       "      <td>Middle Juba</td>\n",
       "      <td>Saakow</td>\n",
       "      <td>Gedo</td>\n",
       "      <td>Baardheere</td>\n",
       "      <td>Drought related</td>\n",
       "      <td>Livelihood Support</td>\n",
       "      <td>12</td>\n",
       "    </tr>\n",
       "    <tr>\n",
       "      <th>2466</th>\n",
       "      <td>31/01/2016</td>\n",
       "      <td>201600</td>\n",
       "      <td>2016</td>\n",
       "      <td>Woqooyi Galbeed</td>\n",
       "      <td>Hargeysa</td>\n",
       "      <td>Banadir</td>\n",
       "      <td>Banadir</td>\n",
       "      <td>Drought related</td>\n",
       "      <td>Protection</td>\n",
       "      <td>5</td>\n",
       "    </tr>\n",
       "    <tr>\n",
       "      <th>2122</th>\n",
       "      <td>31/01/2016</td>\n",
       "      <td>201600</td>\n",
       "      <td>2016</td>\n",
       "      <td>Mudug</td>\n",
       "      <td>Gaalkacyo</td>\n",
       "      <td>Mudug</td>\n",
       "      <td>Hobyo</td>\n",
       "      <td>Drought related</td>\n",
       "      <td>Health</td>\n",
       "      <td>6</td>\n",
       "    </tr>\n",
       "  </tbody>\n",
       "</table>\n",
       "</div>"
      ],
      "text/plain": [
       "       Month_end  Year_week  Year   Arrival_rigion Arrival_district  \\\n",
       "1799  31/01/2016     201600  2016      Middle Juba           Saakow   \n",
       "2466  31/01/2016     201600  2016  Woqooyi Galbeed         Hargeysa   \n",
       "2122  31/01/2016     201600  2016            Mudug        Gaalkacyo   \n",
       "\n",
       "     Departure_region Departure_district           Reason       Priority_need  \\\n",
       "1799             Gedo         Baardheere  Drought related  Livelihood Support   \n",
       "2466          Banadir            Banadir  Drought related          Protection   \n",
       "2122            Mudug              Hobyo  Drought related              Health   \n",
       "\n",
       "      No_of_individuals  \n",
       "1799                 12  \n",
       "2466                  5  \n",
       "2122                  6  "
      ]
     },
     "execution_count": 9,
     "metadata": {},
     "output_type": "execute_result"
    }
   ],
   "source": [
    "#sort by 'Year_week' column to see the data in date order\n",
    "df=df.sort_values('Year_week')\n",
    "df.head(3)"
   ]
  },
  {
   "cell_type": "code",
   "execution_count": 10,
   "id": "781b46d3",
   "metadata": {
    "scrolled": true
   },
   "outputs": [
    {
     "data": {
      "text/html": [
       "<div>\n",
       "<style scoped>\n",
       "    .dataframe tbody tr th:only-of-type {\n",
       "        vertical-align: middle;\n",
       "    }\n",
       "\n",
       "    .dataframe tbody tr th {\n",
       "        vertical-align: top;\n",
       "    }\n",
       "\n",
       "    .dataframe thead th {\n",
       "        text-align: right;\n",
       "    }\n",
       "</style>\n",
       "<table border=\"1\" class=\"dataframe\">\n",
       "  <thead>\n",
       "    <tr style=\"text-align: right;\">\n",
       "      <th></th>\n",
       "      <th>Month_end</th>\n",
       "      <th>Year</th>\n",
       "      <th>Arrival_rigion</th>\n",
       "      <th>Arrival_district</th>\n",
       "      <th>Departure_region</th>\n",
       "      <th>Departure_district</th>\n",
       "      <th>Reason</th>\n",
       "      <th>Priority_need</th>\n",
       "      <th>No_of_individuals</th>\n",
       "    </tr>\n",
       "    <tr>\n",
       "      <th>Year_week</th>\n",
       "      <th></th>\n",
       "      <th></th>\n",
       "      <th></th>\n",
       "      <th></th>\n",
       "      <th></th>\n",
       "      <th></th>\n",
       "      <th></th>\n",
       "      <th></th>\n",
       "      <th></th>\n",
       "    </tr>\n",
       "  </thead>\n",
       "  <tbody>\n",
       "    <tr>\n",
       "      <th>201600</th>\n",
       "      <td>31/01/2016</td>\n",
       "      <td>2016</td>\n",
       "      <td>Middle Juba</td>\n",
       "      <td>Saakow</td>\n",
       "      <td>Gedo</td>\n",
       "      <td>Baardheere</td>\n",
       "      <td>Drought related</td>\n",
       "      <td>Livelihood Support</td>\n",
       "      <td>12</td>\n",
       "    </tr>\n",
       "    <tr>\n",
       "      <th>201600</th>\n",
       "      <td>31/01/2016</td>\n",
       "      <td>2016</td>\n",
       "      <td>Woqooyi Galbeed</td>\n",
       "      <td>Hargeysa</td>\n",
       "      <td>Banadir</td>\n",
       "      <td>Banadir</td>\n",
       "      <td>Drought related</td>\n",
       "      <td>Protection</td>\n",
       "      <td>5</td>\n",
       "    </tr>\n",
       "  </tbody>\n",
       "</table>\n",
       "</div>"
      ],
      "text/plain": [
       "            Month_end  Year   Arrival_rigion Arrival_district  \\\n",
       "Year_week                                                       \n",
       "201600     31/01/2016  2016      Middle Juba           Saakow   \n",
       "201600     31/01/2016  2016  Woqooyi Galbeed         Hargeysa   \n",
       "\n",
       "          Departure_region Departure_district           Reason  \\\n",
       "Year_week                                                        \n",
       "201600                Gedo         Baardheere  Drought related   \n",
       "201600             Banadir            Banadir  Drought related   \n",
       "\n",
       "                Priority_need  No_of_individuals  \n",
       "Year_week                                         \n",
       "201600     Livelihood Support                 12  \n",
       "201600             Protection                  5  "
      ]
     },
     "execution_count": 10,
     "metadata": {},
     "output_type": "execute_result"
    }
   ],
   "source": [
    "# making 'Year_week' column the index and previewing if the changes has been made.\n",
    "df= df.set_index(['Year_week'])\n",
    "df.head(2)"
   ]
  },
  {
   "cell_type": "markdown",
   "id": "cb286305",
   "metadata": {},
   "source": [
    "At this point, we may need dropping some irrevalent columns in our data. the month_end column looks less need in our data."
   ]
  },
  {
   "cell_type": "code",
   "execution_count": 11,
   "id": "0e98c7a6",
   "metadata": {
    "scrolled": true
   },
   "outputs": [
    {
     "name": "stderr",
     "output_type": "stream",
     "text": [
      "C:\\Users\\Abdiq\\anaconda3\\lib\\site-packages\\pandas\\core\\indexes\\datetimes.py:327: UserWarning: Parsing '31/01/2016' in DD/MM/YYYY format. Provide format or specify infer_datetime_format=True for consistent parsing.\n",
      "  dtarr = DatetimeArray._from_sequence_not_strict(\n",
      "C:\\Users\\Abdiq\\anaconda3\\lib\\site-packages\\pandas\\core\\indexes\\datetimes.py:327: UserWarning: Parsing '29/02/2016' in DD/MM/YYYY format. Provide format or specify infer_datetime_format=True for consistent parsing.\n",
      "  dtarr = DatetimeArray._from_sequence_not_strict(\n",
      "C:\\Users\\Abdiq\\anaconda3\\lib\\site-packages\\pandas\\core\\indexes\\datetimes.py:327: UserWarning: Parsing '31/03/2016' in DD/MM/YYYY format. Provide format or specify infer_datetime_format=True for consistent parsing.\n",
      "  dtarr = DatetimeArray._from_sequence_not_strict(\n",
      "C:\\Users\\Abdiq\\anaconda3\\lib\\site-packages\\pandas\\core\\indexes\\datetimes.py:327: UserWarning: Parsing '30/04/2016' in DD/MM/YYYY format. Provide format or specify infer_datetime_format=True for consistent parsing.\n",
      "  dtarr = DatetimeArray._from_sequence_not_strict(\n",
      "C:\\Users\\Abdiq\\anaconda3\\lib\\site-packages\\pandas\\core\\indexes\\datetimes.py:327: UserWarning: Parsing '31/05/2016' in DD/MM/YYYY format. Provide format or specify infer_datetime_format=True for consistent parsing.\n",
      "  dtarr = DatetimeArray._from_sequence_not_strict(\n",
      "C:\\Users\\Abdiq\\anaconda3\\lib\\site-packages\\pandas\\core\\indexes\\datetimes.py:327: UserWarning: Parsing '30/06/2016' in DD/MM/YYYY format. Provide format or specify infer_datetime_format=True for consistent parsing.\n",
      "  dtarr = DatetimeArray._from_sequence_not_strict(\n",
      "C:\\Users\\Abdiq\\anaconda3\\lib\\site-packages\\pandas\\core\\indexes\\datetimes.py:327: UserWarning: Parsing '31/07/2016' in DD/MM/YYYY format. Provide format or specify infer_datetime_format=True for consistent parsing.\n",
      "  dtarr = DatetimeArray._from_sequence_not_strict(\n",
      "C:\\Users\\Abdiq\\anaconda3\\lib\\site-packages\\pandas\\core\\indexes\\datetimes.py:327: UserWarning: Parsing '31/08/2016' in DD/MM/YYYY format. Provide format or specify infer_datetime_format=True for consistent parsing.\n",
      "  dtarr = DatetimeArray._from_sequence_not_strict(\n",
      "C:\\Users\\Abdiq\\anaconda3\\lib\\site-packages\\pandas\\core\\indexes\\datetimes.py:327: UserWarning: Parsing '30/09/2016' in DD/MM/YYYY format. Provide format or specify infer_datetime_format=True for consistent parsing.\n",
      "  dtarr = DatetimeArray._from_sequence_not_strict(\n",
      "C:\\Users\\Abdiq\\anaconda3\\lib\\site-packages\\pandas\\core\\indexes\\datetimes.py:327: UserWarning: Parsing '31/10/2016' in DD/MM/YYYY format. Provide format or specify infer_datetime_format=True for consistent parsing.\n",
      "  dtarr = DatetimeArray._from_sequence_not_strict(\n",
      "C:\\Users\\Abdiq\\anaconda3\\lib\\site-packages\\pandas\\core\\indexes\\datetimes.py:327: UserWarning: Parsing '30/11/2016' in DD/MM/YYYY format. Provide format or specify infer_datetime_format=True for consistent parsing.\n",
      "  dtarr = DatetimeArray._from_sequence_not_strict(\n",
      "C:\\Users\\Abdiq\\anaconda3\\lib\\site-packages\\pandas\\core\\indexes\\datetimes.py:327: UserWarning: Parsing '31/12/2016' in DD/MM/YYYY format. Provide format or specify infer_datetime_format=True for consistent parsing.\n",
      "  dtarr = DatetimeArray._from_sequence_not_strict(\n",
      "C:\\Users\\Abdiq\\anaconda3\\lib\\site-packages\\pandas\\core\\indexes\\datetimes.py:327: UserWarning: Parsing '31/01/2017' in DD/MM/YYYY format. Provide format or specify infer_datetime_format=True for consistent parsing.\n",
      "  dtarr = DatetimeArray._from_sequence_not_strict(\n",
      "C:\\Users\\Abdiq\\anaconda3\\lib\\site-packages\\pandas\\core\\indexes\\datetimes.py:327: UserWarning: Parsing '28/02/2017' in DD/MM/YYYY format. Provide format or specify infer_datetime_format=True for consistent parsing.\n",
      "  dtarr = DatetimeArray._from_sequence_not_strict(\n",
      "C:\\Users\\Abdiq\\anaconda3\\lib\\site-packages\\pandas\\core\\indexes\\datetimes.py:327: UserWarning: Parsing '31/03/2017' in DD/MM/YYYY format. Provide format or specify infer_datetime_format=True for consistent parsing.\n",
      "  dtarr = DatetimeArray._from_sequence_not_strict(\n",
      "C:\\Users\\Abdiq\\anaconda3\\lib\\site-packages\\pandas\\core\\indexes\\datetimes.py:327: UserWarning: Parsing '30/04/2017' in DD/MM/YYYY format. Provide format or specify infer_datetime_format=True for consistent parsing.\n",
      "  dtarr = DatetimeArray._from_sequence_not_strict(\n",
      "C:\\Users\\Abdiq\\anaconda3\\lib\\site-packages\\pandas\\core\\indexes\\datetimes.py:327: UserWarning: Parsing '31/05/2017' in DD/MM/YYYY format. Provide format or specify infer_datetime_format=True for consistent parsing.\n",
      "  dtarr = DatetimeArray._from_sequence_not_strict(\n",
      "C:\\Users\\Abdiq\\anaconda3\\lib\\site-packages\\pandas\\core\\indexes\\datetimes.py:327: UserWarning: Parsing '30/06/2017' in DD/MM/YYYY format. Provide format or specify infer_datetime_format=True for consistent parsing.\n",
      "  dtarr = DatetimeArray._from_sequence_not_strict(\n",
      "C:\\Users\\Abdiq\\anaconda3\\lib\\site-packages\\pandas\\core\\indexes\\datetimes.py:327: UserWarning: Parsing '31/07/2017' in DD/MM/YYYY format. Provide format or specify infer_datetime_format=True for consistent parsing.\n",
      "  dtarr = DatetimeArray._from_sequence_not_strict(\n",
      "C:\\Users\\Abdiq\\anaconda3\\lib\\site-packages\\pandas\\core\\indexes\\datetimes.py:327: UserWarning: Parsing '31/08/2017' in DD/MM/YYYY format. Provide format or specify infer_datetime_format=True for consistent parsing.\n",
      "  dtarr = DatetimeArray._from_sequence_not_strict(\n",
      "C:\\Users\\Abdiq\\anaconda3\\lib\\site-packages\\pandas\\core\\indexes\\datetimes.py:327: UserWarning: Parsing '30/09/2017' in DD/MM/YYYY format. Provide format or specify infer_datetime_format=True for consistent parsing.\n",
      "  dtarr = DatetimeArray._from_sequence_not_strict(\n",
      "C:\\Users\\Abdiq\\anaconda3\\lib\\site-packages\\pandas\\core\\indexes\\datetimes.py:327: UserWarning: Parsing '31/10/2017' in DD/MM/YYYY format. Provide format or specify infer_datetime_format=True for consistent parsing.\n",
      "  dtarr = DatetimeArray._from_sequence_not_strict(\n",
      "C:\\Users\\Abdiq\\anaconda3\\lib\\site-packages\\pandas\\core\\indexes\\datetimes.py:327: UserWarning: Parsing '30/11/2017' in DD/MM/YYYY format. Provide format or specify infer_datetime_format=True for consistent parsing.\n",
      "  dtarr = DatetimeArray._from_sequence_not_strict(\n",
      "C:\\Users\\Abdiq\\anaconda3\\lib\\site-packages\\pandas\\core\\indexes\\datetimes.py:327: UserWarning: Parsing '31/12/2017' in DD/MM/YYYY format. Provide format or specify infer_datetime_format=True for consistent parsing.\n",
      "  dtarr = DatetimeArray._from_sequence_not_strict(\n",
      "C:\\Users\\Abdiq\\anaconda3\\lib\\site-packages\\pandas\\core\\indexes\\datetimes.py:327: UserWarning: Parsing '31/01/2018' in DD/MM/YYYY format. Provide format or specify infer_datetime_format=True for consistent parsing.\n",
      "  dtarr = DatetimeArray._from_sequence_not_strict(\n",
      "C:\\Users\\Abdiq\\anaconda3\\lib\\site-packages\\pandas\\core\\indexes\\datetimes.py:327: UserWarning: Parsing '28/02/2018' in DD/MM/YYYY format. Provide format or specify infer_datetime_format=True for consistent parsing.\n",
      "  dtarr = DatetimeArray._from_sequence_not_strict(\n",
      "C:\\Users\\Abdiq\\anaconda3\\lib\\site-packages\\pandas\\core\\indexes\\datetimes.py:327: UserWarning: Parsing '31/03/2018' in DD/MM/YYYY format. Provide format or specify infer_datetime_format=True for consistent parsing.\n",
      "  dtarr = DatetimeArray._from_sequence_not_strict(\n",
      "C:\\Users\\Abdiq\\anaconda3\\lib\\site-packages\\pandas\\core\\indexes\\datetimes.py:327: UserWarning: Parsing '30/04/2018' in DD/MM/YYYY format. Provide format or specify infer_datetime_format=True for consistent parsing.\n",
      "  dtarr = DatetimeArray._from_sequence_not_strict(\n",
      "C:\\Users\\Abdiq\\anaconda3\\lib\\site-packages\\pandas\\core\\indexes\\datetimes.py:327: UserWarning: Parsing '31/05/2018' in DD/MM/YYYY format. Provide format or specify infer_datetime_format=True for consistent parsing.\n",
      "  dtarr = DatetimeArray._from_sequence_not_strict(\n",
      "C:\\Users\\Abdiq\\anaconda3\\lib\\site-packages\\pandas\\core\\indexes\\datetimes.py:327: UserWarning: Parsing '30/06/2018' in DD/MM/YYYY format. Provide format or specify infer_datetime_format=True for consistent parsing.\n",
      "  dtarr = DatetimeArray._from_sequence_not_strict(\n",
      "C:\\Users\\Abdiq\\anaconda3\\lib\\site-packages\\pandas\\core\\indexes\\datetimes.py:327: UserWarning: Parsing '31/07/2018' in DD/MM/YYYY format. Provide format or specify infer_datetime_format=True for consistent parsing.\n",
      "  dtarr = DatetimeArray._from_sequence_not_strict(\n",
      "C:\\Users\\Abdiq\\anaconda3\\lib\\site-packages\\pandas\\core\\indexes\\datetimes.py:327: UserWarning: Parsing '31/08/2018' in DD/MM/YYYY format. Provide format or specify infer_datetime_format=True for consistent parsing.\n",
      "  dtarr = DatetimeArray._from_sequence_not_strict(\n",
      "C:\\Users\\Abdiq\\anaconda3\\lib\\site-packages\\pandas\\core\\indexes\\datetimes.py:327: UserWarning: Parsing '30/09/2018' in DD/MM/YYYY format. Provide format or specify infer_datetime_format=True for consistent parsing.\n",
      "  dtarr = DatetimeArray._from_sequence_not_strict(\n",
      "C:\\Users\\Abdiq\\anaconda3\\lib\\site-packages\\pandas\\core\\indexes\\datetimes.py:327: UserWarning: Parsing '31/10/2018' in DD/MM/YYYY format. Provide format or specify infer_datetime_format=True for consistent parsing.\n",
      "  dtarr = DatetimeArray._from_sequence_not_strict(\n",
      "C:\\Users\\Abdiq\\anaconda3\\lib\\site-packages\\pandas\\core\\indexes\\datetimes.py:327: UserWarning: Parsing '30/11/2018' in DD/MM/YYYY format. Provide format or specify infer_datetime_format=True for consistent parsing.\n",
      "  dtarr = DatetimeArray._from_sequence_not_strict(\n",
      "C:\\Users\\Abdiq\\anaconda3\\lib\\site-packages\\pandas\\core\\indexes\\datetimes.py:327: UserWarning: Parsing '31/12/2018' in DD/MM/YYYY format. Provide format or specify infer_datetime_format=True for consistent parsing.\n",
      "  dtarr = DatetimeArray._from_sequence_not_strict(\n",
      "C:\\Users\\Abdiq\\anaconda3\\lib\\site-packages\\pandas\\core\\indexes\\datetimes.py:327: UserWarning: Parsing '31/01/2019' in DD/MM/YYYY format. Provide format or specify infer_datetime_format=True for consistent parsing.\n",
      "  dtarr = DatetimeArray._from_sequence_not_strict(\n",
      "C:\\Users\\Abdiq\\anaconda3\\lib\\site-packages\\pandas\\core\\indexes\\datetimes.py:327: UserWarning: Parsing '28/02/2019' in DD/MM/YYYY format. Provide format or specify infer_datetime_format=True for consistent parsing.\n",
      "  dtarr = DatetimeArray._from_sequence_not_strict(\n",
      "C:\\Users\\Abdiq\\anaconda3\\lib\\site-packages\\pandas\\core\\indexes\\datetimes.py:327: UserWarning: Parsing '31/03/2019' in DD/MM/YYYY format. Provide format or specify infer_datetime_format=True for consistent parsing.\n",
      "  dtarr = DatetimeArray._from_sequence_not_strict(\n",
      "C:\\Users\\Abdiq\\anaconda3\\lib\\site-packages\\pandas\\core\\indexes\\datetimes.py:327: UserWarning: Parsing '30/04/2019' in DD/MM/YYYY format. Provide format or specify infer_datetime_format=True for consistent parsing.\n",
      "  dtarr = DatetimeArray._from_sequence_not_strict(\n",
      "C:\\Users\\Abdiq\\anaconda3\\lib\\site-packages\\pandas\\core\\indexes\\datetimes.py:327: UserWarning: Parsing '31/05/2019' in DD/MM/YYYY format. Provide format or specify infer_datetime_format=True for consistent parsing.\n",
      "  dtarr = DatetimeArray._from_sequence_not_strict(\n",
      "C:\\Users\\Abdiq\\anaconda3\\lib\\site-packages\\pandas\\core\\indexes\\datetimes.py:327: UserWarning: Parsing '30/06/2019' in DD/MM/YYYY format. Provide format or specify infer_datetime_format=True for consistent parsing.\n",
      "  dtarr = DatetimeArray._from_sequence_not_strict(\n",
      "C:\\Users\\Abdiq\\anaconda3\\lib\\site-packages\\pandas\\core\\indexes\\datetimes.py:327: UserWarning: Parsing '31/07/2019' in DD/MM/YYYY format. Provide format or specify infer_datetime_format=True for consistent parsing.\n",
      "  dtarr = DatetimeArray._from_sequence_not_strict(\n",
      "C:\\Users\\Abdiq\\anaconda3\\lib\\site-packages\\pandas\\core\\indexes\\datetimes.py:327: UserWarning: Parsing '31/08/2019' in DD/MM/YYYY format. Provide format or specify infer_datetime_format=True for consistent parsing.\n",
      "  dtarr = DatetimeArray._from_sequence_not_strict(\n",
      "C:\\Users\\Abdiq\\anaconda3\\lib\\site-packages\\pandas\\core\\indexes\\datetimes.py:327: UserWarning: Parsing '30/09/2019' in DD/MM/YYYY format. Provide format or specify infer_datetime_format=True for consistent parsing.\n",
      "  dtarr = DatetimeArray._from_sequence_not_strict(\n",
      "C:\\Users\\Abdiq\\anaconda3\\lib\\site-packages\\pandas\\core\\indexes\\datetimes.py:327: UserWarning: Parsing '31/10/2019' in DD/MM/YYYY format. Provide format or specify infer_datetime_format=True for consistent parsing.\n",
      "  dtarr = DatetimeArray._from_sequence_not_strict(\n",
      "C:\\Users\\Abdiq\\anaconda3\\lib\\site-packages\\pandas\\core\\indexes\\datetimes.py:327: UserWarning: Parsing '30/11/2019' in DD/MM/YYYY format. Provide format or specify infer_datetime_format=True for consistent parsing.\n",
      "  dtarr = DatetimeArray._from_sequence_not_strict(\n",
      "C:\\Users\\Abdiq\\anaconda3\\lib\\site-packages\\pandas\\core\\indexes\\datetimes.py:327: UserWarning: Parsing '31/12/2019' in DD/MM/YYYY format. Provide format or specify infer_datetime_format=True for consistent parsing.\n",
      "  dtarr = DatetimeArray._from_sequence_not_strict(\n",
      "C:\\Users\\Abdiq\\anaconda3\\lib\\site-packages\\pandas\\core\\indexes\\datetimes.py:327: UserWarning: Parsing '31/01/2020' in DD/MM/YYYY format. Provide format or specify infer_datetime_format=True for consistent parsing.\n",
      "  dtarr = DatetimeArray._from_sequence_not_strict(\n",
      "C:\\Users\\Abdiq\\anaconda3\\lib\\site-packages\\pandas\\core\\indexes\\datetimes.py:327: UserWarning: Parsing '29/02/2020' in DD/MM/YYYY format. Provide format or specify infer_datetime_format=True for consistent parsing.\n",
      "  dtarr = DatetimeArray._from_sequence_not_strict(\n",
      "C:\\Users\\Abdiq\\anaconda3\\lib\\site-packages\\pandas\\core\\indexes\\datetimes.py:327: UserWarning: Parsing '31/03/2020' in DD/MM/YYYY format. Provide format or specify infer_datetime_format=True for consistent parsing.\n",
      "  dtarr = DatetimeArray._from_sequence_not_strict(\n",
      "C:\\Users\\Abdiq\\anaconda3\\lib\\site-packages\\pandas\\core\\indexes\\datetimes.py:327: UserWarning: Parsing '30/04/2020' in DD/MM/YYYY format. Provide format or specify infer_datetime_format=True for consistent parsing.\n",
      "  dtarr = DatetimeArray._from_sequence_not_strict(\n",
      "C:\\Users\\Abdiq\\anaconda3\\lib\\site-packages\\pandas\\core\\indexes\\datetimes.py:327: UserWarning: Parsing '31/05/2020' in DD/MM/YYYY format. Provide format or specify infer_datetime_format=True for consistent parsing.\n",
      "  dtarr = DatetimeArray._from_sequence_not_strict(\n",
      "C:\\Users\\Abdiq\\anaconda3\\lib\\site-packages\\pandas\\core\\indexes\\datetimes.py:327: UserWarning: Parsing '30/06/2020' in DD/MM/YYYY format. Provide format or specify infer_datetime_format=True for consistent parsing.\n",
      "  dtarr = DatetimeArray._from_sequence_not_strict(\n",
      "C:\\Users\\Abdiq\\anaconda3\\lib\\site-packages\\pandas\\core\\indexes\\datetimes.py:327: UserWarning: Parsing '31/07/2020' in DD/MM/YYYY format. Provide format or specify infer_datetime_format=True for consistent parsing.\n",
      "  dtarr = DatetimeArray._from_sequence_not_strict(\n",
      "C:\\Users\\Abdiq\\anaconda3\\lib\\site-packages\\pandas\\core\\indexes\\datetimes.py:327: UserWarning: Parsing '31/08/2020' in DD/MM/YYYY format. Provide format or specify infer_datetime_format=True for consistent parsing.\n",
      "  dtarr = DatetimeArray._from_sequence_not_strict(\n",
      "C:\\Users\\Abdiq\\anaconda3\\lib\\site-packages\\pandas\\core\\indexes\\datetimes.py:327: UserWarning: Parsing '30/09/2020' in DD/MM/YYYY format. Provide format or specify infer_datetime_format=True for consistent parsing.\n",
      "  dtarr = DatetimeArray._from_sequence_not_strict(\n",
      "C:\\Users\\Abdiq\\anaconda3\\lib\\site-packages\\pandas\\core\\indexes\\datetimes.py:327: UserWarning: Parsing '31/10/2020' in DD/MM/YYYY format. Provide format or specify infer_datetime_format=True for consistent parsing.\n",
      "  dtarr = DatetimeArray._from_sequence_not_strict(\n",
      "C:\\Users\\Abdiq\\anaconda3\\lib\\site-packages\\pandas\\core\\indexes\\datetimes.py:327: UserWarning: Parsing '30/11/2020' in DD/MM/YYYY format. Provide format or specify infer_datetime_format=True for consistent parsing.\n",
      "  dtarr = DatetimeArray._from_sequence_not_strict(\n",
      "C:\\Users\\Abdiq\\anaconda3\\lib\\site-packages\\pandas\\core\\indexes\\datetimes.py:327: UserWarning: Parsing '31/12/2020' in DD/MM/YYYY format. Provide format or specify infer_datetime_format=True for consistent parsing.\n",
      "  dtarr = DatetimeArray._from_sequence_not_strict(\n",
      "C:\\Users\\Abdiq\\anaconda3\\lib\\site-packages\\pandas\\core\\indexes\\datetimes.py:327: UserWarning: Parsing '31/01/2021' in DD/MM/YYYY format. Provide format or specify infer_datetime_format=True for consistent parsing.\n",
      "  dtarr = DatetimeArray._from_sequence_not_strict(\n",
      "C:\\Users\\Abdiq\\anaconda3\\lib\\site-packages\\pandas\\core\\indexes\\datetimes.py:327: UserWarning: Parsing '28/02/2021' in DD/MM/YYYY format. Provide format or specify infer_datetime_format=True for consistent parsing.\n",
      "  dtarr = DatetimeArray._from_sequence_not_strict(\n",
      "C:\\Users\\Abdiq\\anaconda3\\lib\\site-packages\\pandas\\core\\indexes\\datetimes.py:327: UserWarning: Parsing '31/03/2021' in DD/MM/YYYY format. Provide format or specify infer_datetime_format=True for consistent parsing.\n",
      "  dtarr = DatetimeArray._from_sequence_not_strict(\n",
      "C:\\Users\\Abdiq\\anaconda3\\lib\\site-packages\\pandas\\core\\indexes\\datetimes.py:327: UserWarning: Parsing '30/04/2021' in DD/MM/YYYY format. Provide format or specify infer_datetime_format=True for consistent parsing.\n",
      "  dtarr = DatetimeArray._from_sequence_not_strict(\n",
      "C:\\Users\\Abdiq\\anaconda3\\lib\\site-packages\\pandas\\core\\indexes\\datetimes.py:327: UserWarning: Parsing '31/05/2021' in DD/MM/YYYY format. Provide format or specify infer_datetime_format=True for consistent parsing.\n",
      "  dtarr = DatetimeArray._from_sequence_not_strict(\n",
      "C:\\Users\\Abdiq\\anaconda3\\lib\\site-packages\\pandas\\core\\indexes\\datetimes.py:327: UserWarning: Parsing '30/06/2021' in DD/MM/YYYY format. Provide format or specify infer_datetime_format=True for consistent parsing.\n",
      "  dtarr = DatetimeArray._from_sequence_not_strict(\n",
      "C:\\Users\\Abdiq\\anaconda3\\lib\\site-packages\\pandas\\core\\indexes\\datetimes.py:327: UserWarning: Parsing '31/07/2021' in DD/MM/YYYY format. Provide format or specify infer_datetime_format=True for consistent parsing.\n",
      "  dtarr = DatetimeArray._from_sequence_not_strict(\n",
      "C:\\Users\\Abdiq\\anaconda3\\lib\\site-packages\\pandas\\core\\indexes\\datetimes.py:327: UserWarning: Parsing '31/08/2021' in DD/MM/YYYY format. Provide format or specify infer_datetime_format=True for consistent parsing.\n",
      "  dtarr = DatetimeArray._from_sequence_not_strict(\n",
      "C:\\Users\\Abdiq\\anaconda3\\lib\\site-packages\\pandas\\core\\indexes\\datetimes.py:327: UserWarning: Parsing '30/09/2021' in DD/MM/YYYY format. Provide format or specify infer_datetime_format=True for consistent parsing.\n",
      "  dtarr = DatetimeArray._from_sequence_not_strict(\n",
      "C:\\Users\\Abdiq\\anaconda3\\lib\\site-packages\\pandas\\core\\indexes\\datetimes.py:327: UserWarning: Parsing '31/10/2021' in DD/MM/YYYY format. Provide format or specify infer_datetime_format=True for consistent parsing.\n",
      "  dtarr = DatetimeArray._from_sequence_not_strict(\n",
      "C:\\Users\\Abdiq\\anaconda3\\lib\\site-packages\\pandas\\core\\indexes\\datetimes.py:327: UserWarning: Parsing '30/11/2021' in DD/MM/YYYY format. Provide format or specify infer_datetime_format=True for consistent parsing.\n",
      "  dtarr = DatetimeArray._from_sequence_not_strict(\n",
      "C:\\Users\\Abdiq\\anaconda3\\lib\\site-packages\\pandas\\core\\indexes\\datetimes.py:327: UserWarning: Parsing '31/12/2021' in DD/MM/YYYY format. Provide format or specify infer_datetime_format=True for consistent parsing.\n",
      "  dtarr = DatetimeArray._from_sequence_not_strict(\n",
      "C:\\Users\\Abdiq\\anaconda3\\lib\\site-packages\\pandas\\core\\indexes\\datetimes.py:327: UserWarning: Parsing '31/01/2022' in DD/MM/YYYY format. Provide format or specify infer_datetime_format=True for consistent parsing.\n",
      "  dtarr = DatetimeArray._from_sequence_not_strict(\n",
      "C:\\Users\\Abdiq\\anaconda3\\lib\\site-packages\\pandas\\core\\indexes\\datetimes.py:327: UserWarning: Parsing '28/02/2022' in DD/MM/YYYY format. Provide format or specify infer_datetime_format=True for consistent parsing.\n",
      "  dtarr = DatetimeArray._from_sequence_not_strict(\n",
      "C:\\Users\\Abdiq\\anaconda3\\lib\\site-packages\\pandas\\core\\indexes\\datetimes.py:327: UserWarning: Parsing '31/03/2022' in DD/MM/YYYY format. Provide format or specify infer_datetime_format=True for consistent parsing.\n",
      "  dtarr = DatetimeArray._from_sequence_not_strict(\n",
      "C:\\Users\\Abdiq\\anaconda3\\lib\\site-packages\\pandas\\core\\indexes\\datetimes.py:327: UserWarning: Parsing '30/04/2022' in DD/MM/YYYY format. Provide format or specify infer_datetime_format=True for consistent parsing.\n",
      "  dtarr = DatetimeArray._from_sequence_not_strict(\n",
      "C:\\Users\\Abdiq\\anaconda3\\lib\\site-packages\\pandas\\core\\indexes\\datetimes.py:327: UserWarning: Parsing '31/05/2022' in DD/MM/YYYY format. Provide format or specify infer_datetime_format=True for consistent parsing.\n",
      "  dtarr = DatetimeArray._from_sequence_not_strict(\n",
      "C:\\Users\\Abdiq\\anaconda3\\lib\\site-packages\\pandas\\core\\indexes\\datetimes.py:327: UserWarning: Parsing '30/06/2022' in DD/MM/YYYY format. Provide format or specify infer_datetime_format=True for consistent parsing.\n",
      "  dtarr = DatetimeArray._from_sequence_not_strict(\n",
      "C:\\Users\\Abdiq\\anaconda3\\lib\\site-packages\\pandas\\core\\indexes\\datetimes.py:327: UserWarning: Parsing '31/07/2022' in DD/MM/YYYY format. Provide format or specify infer_datetime_format=True for consistent parsing.\n",
      "  dtarr = DatetimeArray._from_sequence_not_strict(\n",
      "C:\\Users\\Abdiq\\anaconda3\\lib\\site-packages\\pandas\\core\\indexes\\datetimes.py:327: UserWarning: Parsing '31/08/2022' in DD/MM/YYYY format. Provide format or specify infer_datetime_format=True for consistent parsing.\n",
      "  dtarr = DatetimeArray._from_sequence_not_strict(\n",
      "C:\\Users\\Abdiq\\anaconda3\\lib\\site-packages\\pandas\\core\\indexes\\datetimes.py:327: UserWarning: Parsing '30/09/2022' in DD/MM/YYYY format. Provide format or specify infer_datetime_format=True for consistent parsing.\n",
      "  dtarr = DatetimeArray._from_sequence_not_strict(\n",
      "C:\\Users\\Abdiq\\anaconda3\\lib\\site-packages\\pandas\\core\\indexes\\datetimes.py:327: UserWarning: Parsing '31/10/2022' in DD/MM/YYYY format. Provide format or specify infer_datetime_format=True for consistent parsing.\n",
      "  dtarr = DatetimeArray._from_sequence_not_strict(\n"
     ]
    }
   ],
   "source": [
    "# before we drop month_end column in our dataset, lets extract from it with a month name that suits better in our dataset\n",
    "df['Month'] = pd.DatetimeIndex(df['Month_end']).month_name()"
   ]
  },
  {
   "cell_type": "code",
   "execution_count": 12,
   "id": "f0da6cf4",
   "metadata": {
    "scrolled": false
   },
   "outputs": [
    {
     "data": {
      "text/html": [
       "<div>\n",
       "<style scoped>\n",
       "    .dataframe tbody tr th:only-of-type {\n",
       "        vertical-align: middle;\n",
       "    }\n",
       "\n",
       "    .dataframe tbody tr th {\n",
       "        vertical-align: top;\n",
       "    }\n",
       "\n",
       "    .dataframe thead th {\n",
       "        text-align: right;\n",
       "    }\n",
       "</style>\n",
       "<table border=\"1\" class=\"dataframe\">\n",
       "  <thead>\n",
       "    <tr style=\"text-align: right;\">\n",
       "      <th></th>\n",
       "      <th>Month_end</th>\n",
       "      <th>Year</th>\n",
       "      <th>Arrival_rigion</th>\n",
       "      <th>Arrival_district</th>\n",
       "      <th>Departure_region</th>\n",
       "      <th>Departure_district</th>\n",
       "      <th>Reason</th>\n",
       "      <th>Priority_need</th>\n",
       "      <th>No_of_individuals</th>\n",
       "      <th>Month</th>\n",
       "    </tr>\n",
       "    <tr>\n",
       "      <th>Year_week</th>\n",
       "      <th></th>\n",
       "      <th></th>\n",
       "      <th></th>\n",
       "      <th></th>\n",
       "      <th></th>\n",
       "      <th></th>\n",
       "      <th></th>\n",
       "      <th></th>\n",
       "      <th></th>\n",
       "      <th></th>\n",
       "    </tr>\n",
       "  </thead>\n",
       "  <tbody>\n",
       "    <tr>\n",
       "      <th>201600</th>\n",
       "      <td>31/01/2016</td>\n",
       "      <td>2016</td>\n",
       "      <td>Middle Juba</td>\n",
       "      <td>Saakow</td>\n",
       "      <td>Gedo</td>\n",
       "      <td>Baardheere</td>\n",
       "      <td>Drought related</td>\n",
       "      <td>Livelihood Support</td>\n",
       "      <td>12</td>\n",
       "      <td>January</td>\n",
       "    </tr>\n",
       "    <tr>\n",
       "      <th>201600</th>\n",
       "      <td>31/01/2016</td>\n",
       "      <td>2016</td>\n",
       "      <td>Woqooyi Galbeed</td>\n",
       "      <td>Hargeysa</td>\n",
       "      <td>Banadir</td>\n",
       "      <td>Banadir</td>\n",
       "      <td>Drought related</td>\n",
       "      <td>Protection</td>\n",
       "      <td>5</td>\n",
       "      <td>January</td>\n",
       "    </tr>\n",
       "    <tr>\n",
       "      <th>201600</th>\n",
       "      <td>31/01/2016</td>\n",
       "      <td>2016</td>\n",
       "      <td>Mudug</td>\n",
       "      <td>Gaalkacyo</td>\n",
       "      <td>Mudug</td>\n",
       "      <td>Hobyo</td>\n",
       "      <td>Drought related</td>\n",
       "      <td>Health</td>\n",
       "      <td>6</td>\n",
       "      <td>January</td>\n",
       "    </tr>\n",
       "    <tr>\n",
       "      <th>201600</th>\n",
       "      <td>31/01/2016</td>\n",
       "      <td>2016</td>\n",
       "      <td>Bay</td>\n",
       "      <td>Baidoa</td>\n",
       "      <td>Bay</td>\n",
       "      <td>Baidoa</td>\n",
       "      <td>Drought related</td>\n",
       "      <td>Shelter</td>\n",
       "      <td>7</td>\n",
       "      <td>January</td>\n",
       "    </tr>\n",
       "    <tr>\n",
       "      <th>201600</th>\n",
       "      <td>31/01/2016</td>\n",
       "      <td>2016</td>\n",
       "      <td>Woqooyi Galbeed</td>\n",
       "      <td>Hargeysa</td>\n",
       "      <td>Mudug</td>\n",
       "      <td>Gaalkacyo</td>\n",
       "      <td>Drought related</td>\n",
       "      <td>Livelihood Support</td>\n",
       "      <td>4</td>\n",
       "      <td>January</td>\n",
       "    </tr>\n",
       "  </tbody>\n",
       "</table>\n",
       "</div>"
      ],
      "text/plain": [
       "            Month_end  Year   Arrival_rigion Arrival_district  \\\n",
       "Year_week                                                       \n",
       "201600     31/01/2016  2016      Middle Juba           Saakow   \n",
       "201600     31/01/2016  2016  Woqooyi Galbeed         Hargeysa   \n",
       "201600     31/01/2016  2016            Mudug        Gaalkacyo   \n",
       "201600     31/01/2016  2016              Bay           Baidoa   \n",
       "201600     31/01/2016  2016  Woqooyi Galbeed         Hargeysa   \n",
       "\n",
       "          Departure_region Departure_district           Reason  \\\n",
       "Year_week                                                        \n",
       "201600                Gedo         Baardheere  Drought related   \n",
       "201600             Banadir            Banadir  Drought related   \n",
       "201600               Mudug              Hobyo  Drought related   \n",
       "201600                 Bay             Baidoa  Drought related   \n",
       "201600               Mudug          Gaalkacyo  Drought related   \n",
       "\n",
       "                Priority_need  No_of_individuals    Month  \n",
       "Year_week                                                  \n",
       "201600     Livelihood Support                 12  January  \n",
       "201600             Protection                  5  January  \n",
       "201600                 Health                  6  January  \n",
       "201600                Shelter                  7  January  \n",
       "201600     Livelihood Support                  4  January  "
      ]
     },
     "execution_count": 12,
     "metadata": {},
     "output_type": "execute_result"
    }
   ],
   "source": [
    "# lets view the new 'month' column if added in the dataset\n",
    "df.head()"
   ]
  },
  {
   "cell_type": "code",
   "execution_count": 13,
   "id": "41b1a2fd",
   "metadata": {},
   "outputs": [
    {
     "data": {
      "text/html": [
       "<div>\n",
       "<style scoped>\n",
       "    .dataframe tbody tr th:only-of-type {\n",
       "        vertical-align: middle;\n",
       "    }\n",
       "\n",
       "    .dataframe tbody tr th {\n",
       "        vertical-align: top;\n",
       "    }\n",
       "\n",
       "    .dataframe thead th {\n",
       "        text-align: right;\n",
       "    }\n",
       "</style>\n",
       "<table border=\"1\" class=\"dataframe\">\n",
       "  <thead>\n",
       "    <tr style=\"text-align: right;\">\n",
       "      <th></th>\n",
       "      <th>Year</th>\n",
       "      <th>Arrival_rigion</th>\n",
       "      <th>Arrival_district</th>\n",
       "      <th>Departure_region</th>\n",
       "      <th>Departure_district</th>\n",
       "      <th>Reason</th>\n",
       "      <th>Priority_need</th>\n",
       "      <th>No_of_individuals</th>\n",
       "      <th>Month</th>\n",
       "    </tr>\n",
       "    <tr>\n",
       "      <th>Year_week</th>\n",
       "      <th></th>\n",
       "      <th></th>\n",
       "      <th></th>\n",
       "      <th></th>\n",
       "      <th></th>\n",
       "      <th></th>\n",
       "      <th></th>\n",
       "      <th></th>\n",
       "      <th></th>\n",
       "    </tr>\n",
       "  </thead>\n",
       "  <tbody>\n",
       "    <tr>\n",
       "      <th>201600</th>\n",
       "      <td>2016</td>\n",
       "      <td>Middle Juba</td>\n",
       "      <td>Saakow</td>\n",
       "      <td>Gedo</td>\n",
       "      <td>Baardheere</td>\n",
       "      <td>Drought related</td>\n",
       "      <td>Livelihood Support</td>\n",
       "      <td>12</td>\n",
       "      <td>January</td>\n",
       "    </tr>\n",
       "    <tr>\n",
       "      <th>201600</th>\n",
       "      <td>2016</td>\n",
       "      <td>Woqooyi Galbeed</td>\n",
       "      <td>Hargeysa</td>\n",
       "      <td>Banadir</td>\n",
       "      <td>Banadir</td>\n",
       "      <td>Drought related</td>\n",
       "      <td>Protection</td>\n",
       "      <td>5</td>\n",
       "      <td>January</td>\n",
       "    </tr>\n",
       "  </tbody>\n",
       "</table>\n",
       "</div>"
      ],
      "text/plain": [
       "           Year   Arrival_rigion Arrival_district Departure_region  \\\n",
       "Year_week                                                            \n",
       "201600     2016      Middle Juba           Saakow             Gedo   \n",
       "201600     2016  Woqooyi Galbeed         Hargeysa          Banadir   \n",
       "\n",
       "          Departure_district           Reason       Priority_need  \\\n",
       "Year_week                                                           \n",
       "201600            Baardheere  Drought related  Livelihood Support   \n",
       "201600               Banadir  Drought related          Protection   \n",
       "\n",
       "           No_of_individuals    Month  \n",
       "Year_week                              \n",
       "201600                    12  January  \n",
       "201600                     5  January  "
      ]
     },
     "execution_count": 13,
     "metadata": {},
     "output_type": "execute_result"
    }
   ],
   "source": [
    "# Dropping the 'Month_end' column since its no more important in our analyze and confirming whether the column were dropped\n",
    "df.drop(['Month_end'], axis=1, inplace=True)\n",
    "df.head(2)"
   ]
  },
  {
   "cell_type": "code",
   "execution_count": 14,
   "id": "de3b00f0",
   "metadata": {
    "scrolled": false
   },
   "outputs": [
    {
     "data": {
      "text/html": [
       "<div>\n",
       "<style scoped>\n",
       "    .dataframe tbody tr th:only-of-type {\n",
       "        vertical-align: middle;\n",
       "    }\n",
       "\n",
       "    .dataframe tbody tr th {\n",
       "        vertical-align: top;\n",
       "    }\n",
       "\n",
       "    .dataframe thead th {\n",
       "        text-align: right;\n",
       "    }\n",
       "</style>\n",
       "<table border=\"1\" class=\"dataframe\">\n",
       "  <thead>\n",
       "    <tr style=\"text-align: right;\">\n",
       "      <th></th>\n",
       "      <th>Month</th>\n",
       "      <th>Year</th>\n",
       "      <th>Arrival_rigion</th>\n",
       "      <th>Arrival_district</th>\n",
       "      <th>Departure_region</th>\n",
       "      <th>Departure_district</th>\n",
       "      <th>Reason</th>\n",
       "      <th>Priority_need</th>\n",
       "      <th>No_of_individuals</th>\n",
       "    </tr>\n",
       "    <tr>\n",
       "      <th>Year_week</th>\n",
       "      <th></th>\n",
       "      <th></th>\n",
       "      <th></th>\n",
       "      <th></th>\n",
       "      <th></th>\n",
       "      <th></th>\n",
       "      <th></th>\n",
       "      <th></th>\n",
       "      <th></th>\n",
       "    </tr>\n",
       "  </thead>\n",
       "  <tbody>\n",
       "    <tr>\n",
       "      <th>201600</th>\n",
       "      <td>January</td>\n",
       "      <td>2016</td>\n",
       "      <td>Middle Juba</td>\n",
       "      <td>Saakow</td>\n",
       "      <td>Gedo</td>\n",
       "      <td>Baardheere</td>\n",
       "      <td>Drought related</td>\n",
       "      <td>Livelihood Support</td>\n",
       "      <td>12</td>\n",
       "    </tr>\n",
       "    <tr>\n",
       "      <th>201600</th>\n",
       "      <td>January</td>\n",
       "      <td>2016</td>\n",
       "      <td>Woqooyi Galbeed</td>\n",
       "      <td>Hargeysa</td>\n",
       "      <td>Banadir</td>\n",
       "      <td>Banadir</td>\n",
       "      <td>Drought related</td>\n",
       "      <td>Protection</td>\n",
       "      <td>5</td>\n",
       "    </tr>\n",
       "    <tr>\n",
       "      <th>201600</th>\n",
       "      <td>January</td>\n",
       "      <td>2016</td>\n",
       "      <td>Mudug</td>\n",
       "      <td>Gaalkacyo</td>\n",
       "      <td>Mudug</td>\n",
       "      <td>Hobyo</td>\n",
       "      <td>Drought related</td>\n",
       "      <td>Health</td>\n",
       "      <td>6</td>\n",
       "    </tr>\n",
       "    <tr>\n",
       "      <th>201600</th>\n",
       "      <td>January</td>\n",
       "      <td>2016</td>\n",
       "      <td>Bay</td>\n",
       "      <td>Baidoa</td>\n",
       "      <td>Bay</td>\n",
       "      <td>Baidoa</td>\n",
       "      <td>Drought related</td>\n",
       "      <td>Shelter</td>\n",
       "      <td>7</td>\n",
       "    </tr>\n",
       "    <tr>\n",
       "      <th>201600</th>\n",
       "      <td>January</td>\n",
       "      <td>2016</td>\n",
       "      <td>Woqooyi Galbeed</td>\n",
       "      <td>Hargeysa</td>\n",
       "      <td>Mudug</td>\n",
       "      <td>Gaalkacyo</td>\n",
       "      <td>Drought related</td>\n",
       "      <td>Livelihood Support</td>\n",
       "      <td>4</td>\n",
       "    </tr>\n",
       "    <tr>\n",
       "      <th>...</th>\n",
       "      <td>...</td>\n",
       "      <td>...</td>\n",
       "      <td>...</td>\n",
       "      <td>...</td>\n",
       "      <td>...</td>\n",
       "      <td>...</td>\n",
       "      <td>...</td>\n",
       "      <td>...</td>\n",
       "      <td>...</td>\n",
       "    </tr>\n",
       "    <tr>\n",
       "      <th>202244</th>\n",
       "      <td>October</td>\n",
       "      <td>2022</td>\n",
       "      <td>Middle Juba</td>\n",
       "      <td>Saakow</td>\n",
       "      <td>Bay</td>\n",
       "      <td>Diinsoor</td>\n",
       "      <td>Drought related</td>\n",
       "      <td>Food</td>\n",
       "      <td>18</td>\n",
       "    </tr>\n",
       "    <tr>\n",
       "      <th>202244</th>\n",
       "      <td>October</td>\n",
       "      <td>2022</td>\n",
       "      <td>Lower Juba</td>\n",
       "      <td>Kismayo</td>\n",
       "      <td>Lower Juba</td>\n",
       "      <td>Kismayo</td>\n",
       "      <td>Other</td>\n",
       "      <td>Food</td>\n",
       "      <td>4</td>\n",
       "    </tr>\n",
       "    <tr>\n",
       "      <th>202244</th>\n",
       "      <td>October</td>\n",
       "      <td>2022</td>\n",
       "      <td>Lower Juba</td>\n",
       "      <td>Afmadow</td>\n",
       "      <td>Middle Juba</td>\n",
       "      <td>Saakow</td>\n",
       "      <td>Drought related</td>\n",
       "      <td>Food</td>\n",
       "      <td>24</td>\n",
       "    </tr>\n",
       "    <tr>\n",
       "      <th>202244</th>\n",
       "      <td>October</td>\n",
       "      <td>2022</td>\n",
       "      <td>Bay</td>\n",
       "      <td>Diinsoor</td>\n",
       "      <td>Bay</td>\n",
       "      <td>Diinsoor</td>\n",
       "      <td>Other</td>\n",
       "      <td>Food</td>\n",
       "      <td>10</td>\n",
       "    </tr>\n",
       "    <tr>\n",
       "      <th>202244</th>\n",
       "      <td>October</td>\n",
       "      <td>2022</td>\n",
       "      <td>Bay</td>\n",
       "      <td>Qansax Dheere</td>\n",
       "      <td>Bay</td>\n",
       "      <td>Qansax Dheere</td>\n",
       "      <td>Drought related</td>\n",
       "      <td>Food</td>\n",
       "      <td>15</td>\n",
       "    </tr>\n",
       "  </tbody>\n",
       "</table>\n",
       "<p>54330 rows × 9 columns</p>\n",
       "</div>"
      ],
      "text/plain": [
       "             Month  Year   Arrival_rigion Arrival_district Departure_region  \\\n",
       "Year_week                                                                     \n",
       "201600     January  2016      Middle Juba           Saakow             Gedo   \n",
       "201600     January  2016  Woqooyi Galbeed         Hargeysa          Banadir   \n",
       "201600     January  2016            Mudug        Gaalkacyo            Mudug   \n",
       "201600     January  2016              Bay           Baidoa              Bay   \n",
       "201600     January  2016  Woqooyi Galbeed         Hargeysa            Mudug   \n",
       "...            ...   ...              ...              ...              ...   \n",
       "202244     October  2022      Middle Juba           Saakow              Bay   \n",
       "202244     October  2022       Lower Juba          Kismayo       Lower Juba   \n",
       "202244     October  2022       Lower Juba          Afmadow      Middle Juba   \n",
       "202244     October  2022              Bay         Diinsoor              Bay   \n",
       "202244     October  2022              Bay    Qansax Dheere              Bay   \n",
       "\n",
       "          Departure_district           Reason       Priority_need  \\\n",
       "Year_week                                                           \n",
       "201600            Baardheere  Drought related  Livelihood Support   \n",
       "201600               Banadir  Drought related          Protection   \n",
       "201600                 Hobyo  Drought related              Health   \n",
       "201600                Baidoa  Drought related             Shelter   \n",
       "201600             Gaalkacyo  Drought related  Livelihood Support   \n",
       "...                      ...              ...                 ...   \n",
       "202244              Diinsoor  Drought related                Food   \n",
       "202244               Kismayo            Other                Food   \n",
       "202244                Saakow  Drought related                Food   \n",
       "202244              Diinsoor            Other                Food   \n",
       "202244         Qansax Dheere  Drought related                Food   \n",
       "\n",
       "           No_of_individuals  \n",
       "Year_week                     \n",
       "201600                    12  \n",
       "201600                     5  \n",
       "201600                     6  \n",
       "201600                     7  \n",
       "201600                     4  \n",
       "...                      ...  \n",
       "202244                    18  \n",
       "202244                     4  \n",
       "202244                    24  \n",
       "202244                    10  \n",
       "202244                    15  \n",
       "\n",
       "[54330 rows x 9 columns]"
      ]
     },
     "execution_count": 14,
     "metadata": {},
     "output_type": "execute_result"
    }
   ],
   "source": [
    "# Relocating 'Month' column in first position\n",
    "df.loc[:, [\"Month\",\"Year\",\"Arrival_rigion\",\"Arrival_district\",\"Departure_region\",\"Departure_district\",\"Reason\",\"Priority_need\",\"No_of_individuals\"]]"
   ]
  },
  {
   "cell_type": "markdown",
   "id": "f7c028a5",
   "metadata": {},
   "source": [
    "***\n",
    ">That is all about the `Data Wrangling section`, where we cleaned the data (renamed the columns, removed unnecessary columns, created new columns) to carry for further analysis.\n",
    "***"
   ]
  },
  {
   "cell_type": "markdown",
   "id": "1920774c",
   "metadata": {},
   "source": [
    "### Exploratory Analysis <a id='exploratory-analysis'></a>"
   ]
  },
  {
   "cell_type": "code",
   "execution_count": 15,
   "id": "8ebbde97",
   "metadata": {},
   "outputs": [
    {
     "name": "stdout",
     "output_type": "stream",
     "text": [
      "Arrival Rigions: 18\n"
     ]
    }
   ],
   "source": [
    "#How many rigions do we have in arrival rigions?\n",
    "print('Arrival Rigions: {}'.format(df['Arrival_rigion'].nunique()))"
   ]
  },
  {
   "cell_type": "code",
   "execution_count": 16,
   "id": "134cb718",
   "metadata": {},
   "outputs": [
    {
     "name": "stdout",
     "output_type": "stream",
     "text": [
      "Departure Rigions: 18\n"
     ]
    }
   ],
   "source": [
    "#How many rigions do we have in departure rigions?\n",
    "print('Departure Rigions: {}'.format(df['Departure_region'].nunique()))"
   ]
  },
  {
   "cell_type": "code",
   "execution_count": 17,
   "id": "270b67aa",
   "metadata": {},
   "outputs": [
    {
     "name": "stdout",
     "output_type": "stream",
     "text": [
      "Departure Rigions: ['Gedo' 'Banadir' 'Mudug' 'Bay' 'Lower Shabelle' 'Bari' 'Hiraan' 'Nugaal'\n",
      " 'Lower Juba' 'Galgaduud' 'Sanaag' 'Awdal' 'Woqooyi Galbeed' 'Togdheer'\n",
      " 'Bakool' 'Sool' 'Middle Shabelle' 'Middle Juba']\n"
     ]
    }
   ],
   "source": [
    "#what rigions do we have in departure rigions?\n",
    "print('Departure Rigions: {}'.format(df['Departure_region'].unique()))"
   ]
  },
  {
   "cell_type": "code",
   "execution_count": 18,
   "id": "0d303a14",
   "metadata": {},
   "outputs": [
    {
     "name": "stdout",
     "output_type": "stream",
     "text": [
      "Years Data Collected: [2016 2017 2018 2019 2020 2021 2022]\n"
     ]
    }
   ],
   "source": [
    "#how many years are in our dataset?\n",
    "print('Years Data Collected: {}'.format(df['Year'].unique()))"
   ]
  },
  {
   "cell_type": "code",
   "execution_count": 19,
   "id": "5d7af9fb",
   "metadata": {},
   "outputs": [
    {
     "name": "stdout",
     "output_type": "stream",
     "text": [
      "Arrival Districts: 77\n"
     ]
    }
   ],
   "source": [
    "#How many disticts do we have in arrival districts?\n",
    "print('Arrival Districts: {}'.format(df['Arrival_district'].nunique()))"
   ]
  },
  {
   "cell_type": "code",
   "execution_count": 20,
   "id": "fe0d476a",
   "metadata": {},
   "outputs": [
    {
     "name": "stdout",
     "output_type": "stream",
     "text": [
      "Departure Districts: 77\n"
     ]
    }
   ],
   "source": [
    "#How many disticts do we have in departure districts?\n",
    "print('Departure Districts: {}'.format(df['Departure_district'].nunique()))"
   ]
  },
  {
   "cell_type": "code",
   "execution_count": 21,
   "id": "fb78fda0",
   "metadata": {},
   "outputs": [
    {
     "name": "stdout",
     "output_type": "stream",
     "text": [
      "Total Number of internal dispalacement individuals: 6897179\n"
     ]
    }
   ],
   "source": [
    "#total number of all internal displaced individuals?\n",
    "print('Total Number of internal dispalaced individuals: {}'.format(df['No_of_individuals'].sum()))"
   ]
  },
  {
   "cell_type": "markdown",
   "id": "966b8c42",
   "metadata": {},
   "source": [
    "> <b> According to the above results: </b>  \n",
    "This data is collected total of `5 years, from 2016 upto 2022.`  \n",
    "and it's collected from `18` regions and `77` districts.  \n",
    "Total Number of internal dispalaced persons: `6,897,179.`"
   ]
  },
  {
   "cell_type": "code",
   "execution_count": 22,
   "id": "1a9d3460",
   "metadata": {
    "scrolled": true
   },
   "outputs": [
    {
     "name": "stdout",
     "output_type": "stream",
     "text": [
      "No of Individuals by: Arrival_rigion\n",
      "Banadir            1392405\n",
      "Hiraan             1043044\n",
      "Bay                 665742\n",
      "Lower Shabelle      566199\n",
      "Galgaduud           507514\n",
      "Middle Shabelle     478701\n",
      "Gedo                444496\n",
      "Mudug               360215\n",
      "Bakool              286198\n",
      "Lower Juba          218868\n",
      "Sool                195280\n",
      "Bari                190248\n",
      "Togdheer            148410\n",
      "Sanaag              138363\n",
      "Middle Juba         109940\n",
      "Awdal                61025\n",
      "Woqooyi Galbeed      57012\n",
      "Nugaal               33519\n",
      "Name: No_of_individuals, dtype: int64\n"
     ]
    }
   ],
   "source": [
    "#how many individuals are arrived in every region\n",
    "print('No of Individuals by: {}'.format(df.groupby(['Arrival_rigion'])['No_of_individuals'].sum().sort_values(ascending=False).head(20)))"
   ]
  },
  {
   "cell_type": "code",
   "execution_count": 23,
   "id": "a8e02a18",
   "metadata": {
    "scrolled": false
   },
   "outputs": [
    {
     "data": {
      "text/plain": [
       "<AxesSubplot:title={'center':'Rigions percentage by Arrivals'}, ylabel='No_of_individuals'>"
      ]
     },
     "execution_count": 23,
     "metadata": {},
     "output_type": "execute_result"
    },
    {
     "data": {
      "image/png": "[encoded data removed]",
      "text/plain": [
       "<Figure size 1440x864 with 1 Axes>"
      ]
     },
     "metadata": {},
     "output_type": "display_data"
    }
   ],
   "source": [
    "#how many individuals are arrived in every region\n",
    "arrivalrigpercent = df.groupby(['Arrival_rigion'])['No_of_individuals'].sum().sort_values( ascending=False)\n",
    "arrivalrigpercent.plot(kind='pie', y='Somali Rigions Arrival in persons', autopct='%0.1f%%', title='Rigions percentage by Arrivals', fontsize=18, figsize=(20,12))"
   ]
  },
  {
   "cell_type": "markdown",
   "id": "2311ed06",
   "metadata": {},
   "source": [
    "> <b>In the above result:</b>  \n",
    "in the pie chart, `Banaadir` and `Hiran` are leading the arrived region followed by `Bay` and `Lower shabelle`. "
   ]
  },
  {
   "cell_type": "code",
   "execution_count": 24,
   "id": "114d2edf",
   "metadata": {
    "scrolled": true
   },
   "outputs": [
    {
     "name": "stdout",
     "output_type": "stream",
     "text": [
      "No of  Individuals by: Departure_region\n",
      "Lower Shabelle     1404473\n",
      "Hiraan             1042985\n",
      "Bay                 884423\n",
      "Middle Shabelle     535554\n",
      "Galgaduud           514748\n",
      "Bakool              436709\n",
      "Gedo                364750\n",
      "Mudug               360968\n",
      "Banadir             274262\n",
      "Sool                206290\n",
      "Lower Juba          184508\n",
      "Bari                168648\n",
      "Togdheer            167390\n",
      "Sanaag              141994\n",
      "Middle Juba          86482\n",
      "Awdal                51722\n",
      "Nugaal               46038\n",
      "Woqooyi Galbeed      25235\n",
      "Name: No_of_individuals, dtype: int64\n"
     ]
    }
   ],
   "source": [
    "#how many individuals Departured out every region\n",
    "print('No of  Individuals by: {}'.format(df.groupby(['Departure_region'])['No_of_individuals'].sum().sort_values(ascending=False).head(20)))"
   ]
  },
  {
   "cell_type": "code",
   "execution_count": 25,
   "id": "fd84a5c4",
   "metadata": {},
   "outputs": [
    {
     "data": {
      "text/plain": [
       "<AxesSubplot:title={'center':'Rigions percentage by Departures'}, ylabel='No_of_individuals'>"
      ]
     },
     "execution_count": 25,
     "metadata": {},
     "output_type": "execute_result"
    },
    {
     "data": {
      "image/png": "[encoded data removed]",
      "text/plain": [
       "<Figure size 1440x864 with 1 Axes>"
      ]
     },
     "metadata": {},
     "output_type": "display_data"
    }
   ],
   "source": [
    "#how many individuals are departured out every region\n",
    "deprigpercent = df.groupby(['Departure_region'])['No_of_individuals'].sum().sort_values( ascending=False)\n",
    "deprigpercent.plot(kind='pie', y='Somali Rigions Departured out persons', autopct='%0.1f%%', title='Rigions percentage by Departures', fontsize=18, figsize=(20,12))"
   ]
  },
  {
   "cell_type": "markdown",
   "id": "471bec0e",
   "metadata": {},
   "source": [
    "> <b>In this result:</b>  \n",
    "in this pie chart, `Lower shabelle` and `Hiran` are leading the departured regions followed by `Bay` region.<br>\n",
    "Banaadir now is in the lower side of the chart, that means, it's less likely to departure from it. "
   ]
  },
  {
   "cell_type": "markdown",
   "id": "f9a346e4",
   "metadata": {},
   "source": [
    "` We choose to create a new column to group the regions into states, so we can view better.`"
   ]
  },
  {
   "cell_type": "code",
   "execution_count": 57,
   "id": "e38e0e54",
   "metadata": {},
   "outputs": [],
   "source": [
    "# creating new column 'Arrival_state' based on arrival region values\n",
    "mapping= {'Gedo': 'Jubbaland', 'Banadir': 'Banaadir', 'Mudug': 'Galmudug', 'Bay': 'South West', 'Lower Shabelle': 'Jubbaland', 'Bari': 'Puntland', 'Hiraan': 'Hirshabeelle', 'Nugaal': 'Puntland','Lower Juba': 'Jubbaland', 'Galgaduud': 'Galmudug', 'Sanaag': 'Somaliland', 'Awdal': 'Somaliland', 'Woqooyi Galbeed': 'Somaliland', 'Togdheer': 'Somaliland','Bakool': 'South West', 'Sool': 'Puntland', 'Middle Shabelle': 'Hirshabeelle', 'Middle Juba': 'Hirshabeelle'}\n",
    "df['Arrival_state'] = df.Arrival_rigion.map(mapping)"
   ]
  },
  {
   "cell_type": "code",
   "execution_count": 59,
   "id": "fa3a75d7",
   "metadata": {},
   "outputs": [
    {
     "data": {
      "text/html": [
       "<div>\n",
       "<style scoped>\n",
       "    .dataframe tbody tr th:only-of-type {\n",
       "        vertical-align: middle;\n",
       "    }\n",
       "\n",
       "    .dataframe tbody tr th {\n",
       "        vertical-align: top;\n",
       "    }\n",
       "\n",
       "    .dataframe thead th {\n",
       "        text-align: right;\n",
       "    }\n",
       "</style>\n",
       "<table border=\"1\" class=\"dataframe\">\n",
       "  <thead>\n",
       "    <tr style=\"text-align: right;\">\n",
       "      <th></th>\n",
       "      <th>Month</th>\n",
       "      <th>Year</th>\n",
       "      <th>Season</th>\n",
       "      <th>Arrival_state</th>\n",
       "      <th>Arrival_rigion</th>\n",
       "      <th>Arrival_district</th>\n",
       "      <th>Departure_state</th>\n",
       "      <th>Departure_region</th>\n",
       "      <th>Departure_district</th>\n",
       "      <th>Reason</th>\n",
       "      <th>Priority_need</th>\n",
       "      <th>No_of_individuals</th>\n",
       "    </tr>\n",
       "    <tr>\n",
       "      <th>Year_week</th>\n",
       "      <th></th>\n",
       "      <th></th>\n",
       "      <th></th>\n",
       "      <th></th>\n",
       "      <th></th>\n",
       "      <th></th>\n",
       "      <th></th>\n",
       "      <th></th>\n",
       "      <th></th>\n",
       "      <th></th>\n",
       "      <th></th>\n",
       "      <th></th>\n",
       "    </tr>\n",
       "  </thead>\n",
       "  <tbody>\n",
       "    <tr>\n",
       "      <th>201600</th>\n",
       "      <td>January</td>\n",
       "      <td>2016</td>\n",
       "      <td>Jiilaal</td>\n",
       "      <td>Hirshabeelle</td>\n",
       "      <td>Middle Juba</td>\n",
       "      <td>Saakow</td>\n",
       "      <td>Jubbaland</td>\n",
       "      <td>Gedo</td>\n",
       "      <td>Baardheere</td>\n",
       "      <td>Drought related</td>\n",
       "      <td>Livelihood Support</td>\n",
       "      <td>12</td>\n",
       "    </tr>\n",
       "    <tr>\n",
       "      <th>201600</th>\n",
       "      <td>January</td>\n",
       "      <td>2016</td>\n",
       "      <td>Jiilaal</td>\n",
       "      <td>Somaliland</td>\n",
       "      <td>Woqooyi Galbeed</td>\n",
       "      <td>Hargeysa</td>\n",
       "      <td>Banaadir</td>\n",
       "      <td>Banadir</td>\n",
       "      <td>Banadir</td>\n",
       "      <td>Drought related</td>\n",
       "      <td>Protection</td>\n",
       "      <td>5</td>\n",
       "    </tr>\n",
       "  </tbody>\n",
       "</table>\n",
       "</div>"
      ],
      "text/plain": [
       "             Month  Year   Season Arrival_state   Arrival_rigion  \\\n",
       "Year_week                                                          \n",
       "201600     January  2016  Jiilaal  Hirshabeelle      Middle Juba   \n",
       "201600     January  2016  Jiilaal    Somaliland  Woqooyi Galbeed   \n",
       "\n",
       "          Arrival_district Departure_state Departure_region  \\\n",
       "Year_week                                                     \n",
       "201600              Saakow       Jubbaland             Gedo   \n",
       "201600            Hargeysa        Banaadir          Banadir   \n",
       "\n",
       "          Departure_district           Reason       Priority_need  \\\n",
       "Year_week                                                           \n",
       "201600            Baardheere  Drought related  Livelihood Support   \n",
       "201600               Banadir  Drought related          Protection   \n",
       "\n",
       "           No_of_individuals  \n",
       "Year_week                     \n",
       "201600                    12  \n",
       "201600                     5  "
      ]
     },
     "execution_count": 59,
     "metadata": {},
     "output_type": "execute_result"
    }
   ],
   "source": [
    "# view the new 'Arrival_state' column whether it is added in our dataset\n",
    "df.head(2)"
   ]
  },
  {
   "cell_type": "code",
   "execution_count": 28,
   "id": "0c22ff49",
   "metadata": {},
   "outputs": [
    {
     "data": {
      "text/html": [
       "<div>\n",
       "<style scoped>\n",
       "    .dataframe tbody tr th:only-of-type {\n",
       "        vertical-align: middle;\n",
       "    }\n",
       "\n",
       "    .dataframe tbody tr th {\n",
       "        vertical-align: top;\n",
       "    }\n",
       "\n",
       "    .dataframe thead th {\n",
       "        text-align: right;\n",
       "    }\n",
       "</style>\n",
       "<table border=\"1\" class=\"dataframe\">\n",
       "  <thead>\n",
       "    <tr style=\"text-align: right;\">\n",
       "      <th></th>\n",
       "      <th>Month</th>\n",
       "      <th>Year</th>\n",
       "      <th>Arrival_state</th>\n",
       "      <th>Arrival_rigion</th>\n",
       "      <th>Arrival_district</th>\n",
       "      <th>Departure_region</th>\n",
       "      <th>Departure_district</th>\n",
       "      <th>Reason</th>\n",
       "      <th>Priority_need</th>\n",
       "      <th>No_of_individuals</th>\n",
       "    </tr>\n",
       "    <tr>\n",
       "      <th>Year_week</th>\n",
       "      <th></th>\n",
       "      <th></th>\n",
       "      <th></th>\n",
       "      <th></th>\n",
       "      <th></th>\n",
       "      <th></th>\n",
       "      <th></th>\n",
       "      <th></th>\n",
       "      <th></th>\n",
       "      <th></th>\n",
       "    </tr>\n",
       "  </thead>\n",
       "  <tbody>\n",
       "    <tr>\n",
       "      <th>201600</th>\n",
       "      <td>January</td>\n",
       "      <td>2016</td>\n",
       "      <td>Hirshabeelle</td>\n",
       "      <td>Middle Juba</td>\n",
       "      <td>Saakow</td>\n",
       "      <td>Gedo</td>\n",
       "      <td>Baardheere</td>\n",
       "      <td>Drought related</td>\n",
       "      <td>Livelihood Support</td>\n",
       "      <td>12</td>\n",
       "    </tr>\n",
       "    <tr>\n",
       "      <th>201600</th>\n",
       "      <td>January</td>\n",
       "      <td>2016</td>\n",
       "      <td>Somaliland</td>\n",
       "      <td>Woqooyi Galbeed</td>\n",
       "      <td>Hargeysa</td>\n",
       "      <td>Banadir</td>\n",
       "      <td>Banadir</td>\n",
       "      <td>Drought related</td>\n",
       "      <td>Protection</td>\n",
       "      <td>5</td>\n",
       "    </tr>\n",
       "    <tr>\n",
       "      <th>201600</th>\n",
       "      <td>January</td>\n",
       "      <td>2016</td>\n",
       "      <td>Galmudug</td>\n",
       "      <td>Mudug</td>\n",
       "      <td>Gaalkacyo</td>\n",
       "      <td>Mudug</td>\n",
       "      <td>Hobyo</td>\n",
       "      <td>Drought related</td>\n",
       "      <td>Health</td>\n",
       "      <td>6</td>\n",
       "    </tr>\n",
       "    <tr>\n",
       "      <th>201600</th>\n",
       "      <td>January</td>\n",
       "      <td>2016</td>\n",
       "      <td>South West</td>\n",
       "      <td>Bay</td>\n",
       "      <td>Baidoa</td>\n",
       "      <td>Bay</td>\n",
       "      <td>Baidoa</td>\n",
       "      <td>Drought related</td>\n",
       "      <td>Shelter</td>\n",
       "      <td>7</td>\n",
       "    </tr>\n",
       "    <tr>\n",
       "      <th>201600</th>\n",
       "      <td>January</td>\n",
       "      <td>2016</td>\n",
       "      <td>Somaliland</td>\n",
       "      <td>Woqooyi Galbeed</td>\n",
       "      <td>Hargeysa</td>\n",
       "      <td>Mudug</td>\n",
       "      <td>Gaalkacyo</td>\n",
       "      <td>Drought related</td>\n",
       "      <td>Livelihood Support</td>\n",
       "      <td>4</td>\n",
       "    </tr>\n",
       "    <tr>\n",
       "      <th>...</th>\n",
       "      <td>...</td>\n",
       "      <td>...</td>\n",
       "      <td>...</td>\n",
       "      <td>...</td>\n",
       "      <td>...</td>\n",
       "      <td>...</td>\n",
       "      <td>...</td>\n",
       "      <td>...</td>\n",
       "      <td>...</td>\n",
       "      <td>...</td>\n",
       "    </tr>\n",
       "    <tr>\n",
       "      <th>202244</th>\n",
       "      <td>October</td>\n",
       "      <td>2022</td>\n",
       "      <td>Hirshabeelle</td>\n",
       "      <td>Middle Juba</td>\n",
       "      <td>Saakow</td>\n",
       "      <td>Bay</td>\n",
       "      <td>Diinsoor</td>\n",
       "      <td>Drought related</td>\n",
       "      <td>Food</td>\n",
       "      <td>18</td>\n",
       "    </tr>\n",
       "    <tr>\n",
       "      <th>202244</th>\n",
       "      <td>October</td>\n",
       "      <td>2022</td>\n",
       "      <td>Jubbaland</td>\n",
       "      <td>Lower Juba</td>\n",
       "      <td>Kismayo</td>\n",
       "      <td>Lower Juba</td>\n",
       "      <td>Kismayo</td>\n",
       "      <td>Other</td>\n",
       "      <td>Food</td>\n",
       "      <td>4</td>\n",
       "    </tr>\n",
       "    <tr>\n",
       "      <th>202244</th>\n",
       "      <td>October</td>\n",
       "      <td>2022</td>\n",
       "      <td>Jubbaland</td>\n",
       "      <td>Lower Juba</td>\n",
       "      <td>Afmadow</td>\n",
       "      <td>Middle Juba</td>\n",
       "      <td>Saakow</td>\n",
       "      <td>Drought related</td>\n",
       "      <td>Food</td>\n",
       "      <td>24</td>\n",
       "    </tr>\n",
       "    <tr>\n",
       "      <th>202244</th>\n",
       "      <td>October</td>\n",
       "      <td>2022</td>\n",
       "      <td>South West</td>\n",
       "      <td>Bay</td>\n",
       "      <td>Diinsoor</td>\n",
       "      <td>Bay</td>\n",
       "      <td>Diinsoor</td>\n",
       "      <td>Other</td>\n",
       "      <td>Food</td>\n",
       "      <td>10</td>\n",
       "    </tr>\n",
       "    <tr>\n",
       "      <th>202244</th>\n",
       "      <td>October</td>\n",
       "      <td>2022</td>\n",
       "      <td>South West</td>\n",
       "      <td>Bay</td>\n",
       "      <td>Qansax Dheere</td>\n",
       "      <td>Bay</td>\n",
       "      <td>Qansax Dheere</td>\n",
       "      <td>Drought related</td>\n",
       "      <td>Food</td>\n",
       "      <td>15</td>\n",
       "    </tr>\n",
       "  </tbody>\n",
       "</table>\n",
       "<p>54330 rows × 10 columns</p>\n",
       "</div>"
      ],
      "text/plain": [
       "             Month  Year Arrival_state   Arrival_rigion Arrival_district  \\\n",
       "Year_week                                                                  \n",
       "201600     January  2016  Hirshabeelle      Middle Juba           Saakow   \n",
       "201600     January  2016    Somaliland  Woqooyi Galbeed         Hargeysa   \n",
       "201600     January  2016      Galmudug            Mudug        Gaalkacyo   \n",
       "201600     January  2016    South West              Bay           Baidoa   \n",
       "201600     January  2016    Somaliland  Woqooyi Galbeed         Hargeysa   \n",
       "...            ...   ...           ...              ...              ...   \n",
       "202244     October  2022  Hirshabeelle      Middle Juba           Saakow   \n",
       "202244     October  2022     Jubbaland       Lower Juba          Kismayo   \n",
       "202244     October  2022     Jubbaland       Lower Juba          Afmadow   \n",
       "202244     October  2022    South West              Bay         Diinsoor   \n",
       "202244     October  2022    South West              Bay    Qansax Dheere   \n",
       "\n",
       "          Departure_region Departure_district           Reason  \\\n",
       "Year_week                                                        \n",
       "201600                Gedo         Baardheere  Drought related   \n",
       "201600             Banadir            Banadir  Drought related   \n",
       "201600               Mudug              Hobyo  Drought related   \n",
       "201600                 Bay             Baidoa  Drought related   \n",
       "201600               Mudug          Gaalkacyo  Drought related   \n",
       "...                    ...                ...              ...   \n",
       "202244                 Bay           Diinsoor  Drought related   \n",
       "202244          Lower Juba            Kismayo            Other   \n",
       "202244         Middle Juba             Saakow  Drought related   \n",
       "202244                 Bay           Diinsoor            Other   \n",
       "202244                 Bay      Qansax Dheere  Drought related   \n",
       "\n",
       "                Priority_need  No_of_individuals  \n",
       "Year_week                                         \n",
       "201600     Livelihood Support                 12  \n",
       "201600             Protection                  5  \n",
       "201600                 Health                  6  \n",
       "201600                Shelter                  7  \n",
       "201600     Livelihood Support                  4  \n",
       "...                       ...                ...  \n",
       "202244                   Food                 18  \n",
       "202244                   Food                  4  \n",
       "202244                   Food                 24  \n",
       "202244                   Food                 10  \n",
       "202244                   Food                 15  \n",
       "\n",
       "[54330 rows x 10 columns]"
      ]
     },
     "execution_count": 28,
     "metadata": {},
     "output_type": "execute_result"
    }
   ],
   "source": [
    "#locating Arrival_state column in third position\n",
    "df.loc[:, [\"Month\",\"Year\",\"Arrival_state\",\"Arrival_rigion\",\"Arrival_district\",\"Departure_region\",\"Departure_district\",\"Reason\",\"Priority_need\",\"No_of_individuals\"]]"
   ]
  },
  {
   "cell_type": "code",
   "execution_count": 29,
   "id": "9274325b",
   "metadata": {},
   "outputs": [],
   "source": [
    "# creating a new column 'Departure_state' to the dataset by mapping values based on regions we have already\n",
    "df['Departure_state'] = df.Departure_region.map(mapping)"
   ]
  },
  {
   "cell_type": "code",
   "execution_count": 30,
   "id": "5f9c5d18",
   "metadata": {},
   "outputs": [
    {
     "data": {
      "text/html": [
       "<div>\n",
       "<style scoped>\n",
       "    .dataframe tbody tr th:only-of-type {\n",
       "        vertical-align: middle;\n",
       "    }\n",
       "\n",
       "    .dataframe tbody tr th {\n",
       "        vertical-align: top;\n",
       "    }\n",
       "\n",
       "    .dataframe thead th {\n",
       "        text-align: right;\n",
       "    }\n",
       "</style>\n",
       "<table border=\"1\" class=\"dataframe\">\n",
       "  <thead>\n",
       "    <tr style=\"text-align: right;\">\n",
       "      <th></th>\n",
       "      <th>Year</th>\n",
       "      <th>Arrival_rigion</th>\n",
       "      <th>Arrival_district</th>\n",
       "      <th>Departure_region</th>\n",
       "      <th>Departure_district</th>\n",
       "      <th>Reason</th>\n",
       "      <th>Priority_need</th>\n",
       "      <th>No_of_individuals</th>\n",
       "      <th>Month</th>\n",
       "      <th>Arrival_state</th>\n",
       "      <th>Departure_state</th>\n",
       "    </tr>\n",
       "    <tr>\n",
       "      <th>Year_week</th>\n",
       "      <th></th>\n",
       "      <th></th>\n",
       "      <th></th>\n",
       "      <th></th>\n",
       "      <th></th>\n",
       "      <th></th>\n",
       "      <th></th>\n",
       "      <th></th>\n",
       "      <th></th>\n",
       "      <th></th>\n",
       "      <th></th>\n",
       "    </tr>\n",
       "  </thead>\n",
       "  <tbody>\n",
       "    <tr>\n",
       "      <th>201600</th>\n",
       "      <td>2016</td>\n",
       "      <td>Middle Juba</td>\n",
       "      <td>Saakow</td>\n",
       "      <td>Gedo</td>\n",
       "      <td>Baardheere</td>\n",
       "      <td>Drought related</td>\n",
       "      <td>Livelihood Support</td>\n",
       "      <td>12</td>\n",
       "      <td>January</td>\n",
       "      <td>Hirshabeelle</td>\n",
       "      <td>Jubbaland</td>\n",
       "    </tr>\n",
       "    <tr>\n",
       "      <th>201600</th>\n",
       "      <td>2016</td>\n",
       "      <td>Woqooyi Galbeed</td>\n",
       "      <td>Hargeysa</td>\n",
       "      <td>Banadir</td>\n",
       "      <td>Banadir</td>\n",
       "      <td>Drought related</td>\n",
       "      <td>Protection</td>\n",
       "      <td>5</td>\n",
       "      <td>January</td>\n",
       "      <td>Somaliland</td>\n",
       "      <td>Banaadir</td>\n",
       "    </tr>\n",
       "    <tr>\n",
       "      <th>201600</th>\n",
       "      <td>2016</td>\n",
       "      <td>Mudug</td>\n",
       "      <td>Gaalkacyo</td>\n",
       "      <td>Mudug</td>\n",
       "      <td>Hobyo</td>\n",
       "      <td>Drought related</td>\n",
       "      <td>Health</td>\n",
       "      <td>6</td>\n",
       "      <td>January</td>\n",
       "      <td>Galmudug</td>\n",
       "      <td>Galmudug</td>\n",
       "    </tr>\n",
       "    <tr>\n",
       "      <th>201600</th>\n",
       "      <td>2016</td>\n",
       "      <td>Bay</td>\n",
       "      <td>Baidoa</td>\n",
       "      <td>Bay</td>\n",
       "      <td>Baidoa</td>\n",
       "      <td>Drought related</td>\n",
       "      <td>Shelter</td>\n",
       "      <td>7</td>\n",
       "      <td>January</td>\n",
       "      <td>South West</td>\n",
       "      <td>South West</td>\n",
       "    </tr>\n",
       "    <tr>\n",
       "      <th>201600</th>\n",
       "      <td>2016</td>\n",
       "      <td>Woqooyi Galbeed</td>\n",
       "      <td>Hargeysa</td>\n",
       "      <td>Mudug</td>\n",
       "      <td>Gaalkacyo</td>\n",
       "      <td>Drought related</td>\n",
       "      <td>Livelihood Support</td>\n",
       "      <td>4</td>\n",
       "      <td>January</td>\n",
       "      <td>Somaliland</td>\n",
       "      <td>Galmudug</td>\n",
       "    </tr>\n",
       "  </tbody>\n",
       "</table>\n",
       "</div>"
      ],
      "text/plain": [
       "           Year   Arrival_rigion Arrival_district Departure_region  \\\n",
       "Year_week                                                            \n",
       "201600     2016      Middle Juba           Saakow             Gedo   \n",
       "201600     2016  Woqooyi Galbeed         Hargeysa          Banadir   \n",
       "201600     2016            Mudug        Gaalkacyo            Mudug   \n",
       "201600     2016              Bay           Baidoa              Bay   \n",
       "201600     2016  Woqooyi Galbeed         Hargeysa            Mudug   \n",
       "\n",
       "          Departure_district           Reason       Priority_need  \\\n",
       "Year_week                                                           \n",
       "201600            Baardheere  Drought related  Livelihood Support   \n",
       "201600               Banadir  Drought related          Protection   \n",
       "201600                 Hobyo  Drought related              Health   \n",
       "201600                Baidoa  Drought related             Shelter   \n",
       "201600             Gaalkacyo  Drought related  Livelihood Support   \n",
       "\n",
       "           No_of_individuals    Month Arrival_state Departure_state  \n",
       "Year_week                                                            \n",
       "201600                    12  January  Hirshabeelle       Jubbaland  \n",
       "201600                     5  January    Somaliland        Banaadir  \n",
       "201600                     6  January      Galmudug        Galmudug  \n",
       "201600                     7  January    South West      South West  \n",
       "201600                     4  January    Somaliland        Galmudug  "
      ]
     },
     "execution_count": 30,
     "metadata": {},
     "output_type": "execute_result"
    }
   ],
   "source": [
    "# view the new 'Departure_state' column whether it is added in our dataset\n",
    "df.head(2)"
   ]
  },
  {
   "cell_type": "code",
   "execution_count": 31,
   "id": "9044e9ed",
   "metadata": {},
   "outputs": [
    {
     "data": {
      "text/html": [
       "<div>\n",
       "<style scoped>\n",
       "    .dataframe tbody tr th:only-of-type {\n",
       "        vertical-align: middle;\n",
       "    }\n",
       "\n",
       "    .dataframe tbody tr th {\n",
       "        vertical-align: top;\n",
       "    }\n",
       "\n",
       "    .dataframe thead th {\n",
       "        text-align: right;\n",
       "    }\n",
       "</style>\n",
       "<table border=\"1\" class=\"dataframe\">\n",
       "  <thead>\n",
       "    <tr style=\"text-align: right;\">\n",
       "      <th></th>\n",
       "      <th>Month</th>\n",
       "      <th>Year</th>\n",
       "      <th>Arrival_state</th>\n",
       "      <th>Arrival_rigion</th>\n",
       "      <th>Arrival_district</th>\n",
       "      <th>Departure_state</th>\n",
       "      <th>Departure_region</th>\n",
       "      <th>Departure_district</th>\n",
       "      <th>Reason</th>\n",
       "      <th>Priority_need</th>\n",
       "      <th>No_of_individuals</th>\n",
       "    </tr>\n",
       "    <tr>\n",
       "      <th>Year_week</th>\n",
       "      <th></th>\n",
       "      <th></th>\n",
       "      <th></th>\n",
       "      <th></th>\n",
       "      <th></th>\n",
       "      <th></th>\n",
       "      <th></th>\n",
       "      <th></th>\n",
       "      <th></th>\n",
       "      <th></th>\n",
       "      <th></th>\n",
       "    </tr>\n",
       "  </thead>\n",
       "  <tbody>\n",
       "    <tr>\n",
       "      <th>201600</th>\n",
       "      <td>January</td>\n",
       "      <td>2016</td>\n",
       "      <td>Hirshabeelle</td>\n",
       "      <td>Middle Juba</td>\n",
       "      <td>Saakow</td>\n",
       "      <td>Jubbaland</td>\n",
       "      <td>Gedo</td>\n",
       "      <td>Baardheere</td>\n",
       "      <td>Drought related</td>\n",
       "      <td>Livelihood Support</td>\n",
       "      <td>12</td>\n",
       "    </tr>\n",
       "    <tr>\n",
       "      <th>201600</th>\n",
       "      <td>January</td>\n",
       "      <td>2016</td>\n",
       "      <td>Somaliland</td>\n",
       "      <td>Woqooyi Galbeed</td>\n",
       "      <td>Hargeysa</td>\n",
       "      <td>Banaadir</td>\n",
       "      <td>Banadir</td>\n",
       "      <td>Banadir</td>\n",
       "      <td>Drought related</td>\n",
       "      <td>Protection</td>\n",
       "      <td>5</td>\n",
       "    </tr>\n",
       "  </tbody>\n",
       "</table>\n",
       "</div>"
      ],
      "text/plain": [
       "             Month  Year Arrival_state   Arrival_rigion Arrival_district  \\\n",
       "Year_week                                                                  \n",
       "201600     January  2016  Hirshabeelle      Middle Juba           Saakow   \n",
       "201600     January  2016    Somaliland  Woqooyi Galbeed         Hargeysa   \n",
       "\n",
       "          Departure_state Departure_region Departure_district  \\\n",
       "Year_week                                                       \n",
       "201600          Jubbaland             Gedo         Baardheere   \n",
       "201600           Banaadir          Banadir            Banadir   \n",
       "\n",
       "                    Reason       Priority_need  No_of_individuals  \n",
       "Year_week                                                          \n",
       "201600     Drought related  Livelihood Support                 12  \n",
       "201600     Drought related          Protection                  5  "
      ]
     },
     "execution_count": 31,
     "metadata": {},
     "output_type": "execute_result"
    }
   ],
   "source": [
    "#locating Departure_state column in sixth position\n",
    "df.loc[:, [\"Month\",\"Year\",\"Arrival_state\",\"Arrival_rigion\",\"Arrival_district\",\"Departure_state\",\"Departure_region\",\"Departure_district\",\"Reason\",\"Priority_need\",\"No_of_individuals\"]].head(2)"
   ]
  },
  {
   "cell_type": "code",
   "execution_count": 32,
   "id": "1c54dd2e",
   "metadata": {
    "scrolled": false
   },
   "outputs": [
    {
     "name": "stdout",
     "output_type": "stream",
     "text": [
      "No of Individuals by: Arrival_state\n",
      "Hirshabeelle    1631685\n",
      "Banaadir        1392405\n",
      "Jubbaland       1229563\n",
      "South West       951940\n",
      "Galmudug         867729\n",
      "Puntland         419047\n",
      "Somaliland       404810\n",
      "Name: No_of_individuals, dtype: int64\n"
     ]
    }
   ],
   "source": [
    "# how many individuals arrived in every state?\n",
    "print('No of Individuals by: {}'.format(df.groupby(['Arrival_state'])['No_of_individuals'].sum().sort_values(ascending=False).head(20)))"
   ]
  },
  {
   "cell_type": "code",
   "execution_count": 33,
   "id": "03f10a3f",
   "metadata": {},
   "outputs": [
    {
     "data": {
      "text/html": [
       "<div>\n",
       "<style scoped>\n",
       "    .dataframe tbody tr th:only-of-type {\n",
       "        vertical-align: middle;\n",
       "    }\n",
       "\n",
       "    .dataframe tbody tr th {\n",
       "        vertical-align: top;\n",
       "    }\n",
       "\n",
       "    .dataframe thead th {\n",
       "        text-align: right;\n",
       "    }\n",
       "</style>\n",
       "<table border=\"1\" class=\"dataframe\">\n",
       "  <thead>\n",
       "    <tr style=\"text-align: right;\">\n",
       "      <th></th>\n",
       "      <th>Arrival_state</th>\n",
       "      <th>No_of_individuals</th>\n",
       "    </tr>\n",
       "  </thead>\n",
       "  <tbody>\n",
       "    <tr>\n",
       "      <th>0</th>\n",
       "      <td>Hirshabeelle</td>\n",
       "      <td>1631685</td>\n",
       "    </tr>\n",
       "    <tr>\n",
       "      <th>1</th>\n",
       "      <td>Banaadir</td>\n",
       "      <td>1392405</td>\n",
       "    </tr>\n",
       "    <tr>\n",
       "      <th>2</th>\n",
       "      <td>Jubbaland</td>\n",
       "      <td>1229563</td>\n",
       "    </tr>\n",
       "    <tr>\n",
       "      <th>3</th>\n",
       "      <td>South West</td>\n",
       "      <td>951940</td>\n",
       "    </tr>\n",
       "    <tr>\n",
       "      <th>4</th>\n",
       "      <td>Galmudug</td>\n",
       "      <td>867729</td>\n",
       "    </tr>\n",
       "    <tr>\n",
       "      <th>5</th>\n",
       "      <td>Puntland</td>\n",
       "      <td>419047</td>\n",
       "    </tr>\n",
       "    <tr>\n",
       "      <th>6</th>\n",
       "      <td>Somaliland</td>\n",
       "      <td>404810</td>\n",
       "    </tr>\n",
       "  </tbody>\n",
       "</table>\n",
       "</div>"
      ],
      "text/plain": [
       "  Arrival_state  No_of_individuals\n",
       "0  Hirshabeelle            1631685\n",
       "1      Banaadir            1392405\n",
       "2     Jubbaland            1229563\n",
       "3    South West             951940\n",
       "4      Galmudug             867729\n",
       "5      Puntland             419047\n",
       "6    Somaliland             404810"
      ]
     },
     "execution_count": 33,
     "metadata": {},
     "output_type": "execute_result"
    }
   ],
   "source": [
    "#how many individuals arrived in every state\n",
    "state_arrivals = df.groupby('Arrival_state')[['No_of_individuals']].sum().sort_values(by='No_of_individuals', ascending=False).reset_index()\n",
    "state_arrivals"
   ]
  },
  {
   "cell_type": "code",
   "execution_count": 34,
   "id": "42d33f99",
   "metadata": {},
   "outputs": [
    {
     "data": {
      "text/plain": [
       "<AxesSubplot:title={'center':'States percentage by Arrivals'}, ylabel='No_of_individuals'>"
      ]
     },
     "execution_count": 34,
     "metadata": {},
     "output_type": "execute_result"
    },
    {
     "data": {
      "image/png": "[encoded data removed]",
      "text/plain": [
       "<Figure size 1440x864 with 1 Axes>"
      ]
     },
     "metadata": {},
     "output_type": "display_data"
    }
   ],
   "source": [
    "# how many individuals arrived in every state by pie chart\n",
    "arrivalstatespercent = df.groupby(['Arrival_state'])['No_of_individuals'].sum().sort_values( ascending=False)\n",
    "arrivalstatespercent.plot(kind='pie', y='Somali States Arrival in persons', autopct='%0.1f%%', title='States percentage by Arrivals', fontsize=18, figsize=(20,12))"
   ]
  },
  {
   "cell_type": "markdown",
   "id": "d186eca3",
   "metadata": {},
   "source": [
    "><b>In this chart:</b>  \n",
    "You see we shortened 18 regions in to 7 states, so we can view less and better.  \n",
    "Now, `Hirshabelle` and `Banaadir` are the most arrived states fallowed by `Jubbaland` and `South west.`"
   ]
  },
  {
   "cell_type": "code",
   "execution_count": 35,
   "id": "0c36226b",
   "metadata": {
    "scrolled": true
   },
   "outputs": [
    {
     "name": "stdout",
     "output_type": "stream",
     "text": [
      "No of Individuals by: Departure_state\n",
      "Jubbaland       1953731\n",
      "Hirshabeelle    1665021\n",
      "South West      1321132\n",
      "Galmudug         875716\n",
      "Puntland         420976\n",
      "Somaliland       386341\n",
      "Banaadir         274262\n",
      "Name: No_of_individuals, dtype: int64\n"
     ]
    }
   ],
   "source": [
    "#how many individuals Departured out every state\n",
    "print('No of Individuals by: {}'.format(df.groupby(['Departure_state'])['No_of_individuals'].sum().sort_values(ascending=False).head(20)))"
   ]
  },
  {
   "cell_type": "code",
   "execution_count": 37,
   "id": "0b071101",
   "metadata": {
    "scrolled": true
   },
   "outputs": [
    {
     "data": {
      "text/html": [
       "<div>\n",
       "<style scoped>\n",
       "    .dataframe tbody tr th:only-of-type {\n",
       "        vertical-align: middle;\n",
       "    }\n",
       "\n",
       "    .dataframe tbody tr th {\n",
       "        vertical-align: top;\n",
       "    }\n",
       "\n",
       "    .dataframe thead th {\n",
       "        text-align: right;\n",
       "    }\n",
       "</style>\n",
       "<table border=\"1\" class=\"dataframe\">\n",
       "  <thead>\n",
       "    <tr style=\"text-align: right;\">\n",
       "      <th></th>\n",
       "      <th>Departure_state</th>\n",
       "      <th>No_of_individuals</th>\n",
       "    </tr>\n",
       "  </thead>\n",
       "  <tbody>\n",
       "    <tr>\n",
       "      <th>0</th>\n",
       "      <td>Jubbaland</td>\n",
       "      <td>1953731</td>\n",
       "    </tr>\n",
       "    <tr>\n",
       "      <th>1</th>\n",
       "      <td>Hirshabeelle</td>\n",
       "      <td>1665021</td>\n",
       "    </tr>\n",
       "    <tr>\n",
       "      <th>2</th>\n",
       "      <td>South West</td>\n",
       "      <td>1321132</td>\n",
       "    </tr>\n",
       "    <tr>\n",
       "      <th>3</th>\n",
       "      <td>Galmudug</td>\n",
       "      <td>875716</td>\n",
       "    </tr>\n",
       "    <tr>\n",
       "      <th>4</th>\n",
       "      <td>Puntland</td>\n",
       "      <td>420976</td>\n",
       "    </tr>\n",
       "    <tr>\n",
       "      <th>5</th>\n",
       "      <td>Somaliland</td>\n",
       "      <td>386341</td>\n",
       "    </tr>\n",
       "    <tr>\n",
       "      <th>6</th>\n",
       "      <td>Banaadir</td>\n",
       "      <td>274262</td>\n",
       "    </tr>\n",
       "  </tbody>\n",
       "</table>\n",
       "</div>"
      ],
      "text/plain": [
       "  Departure_state  No_of_individuals\n",
       "0       Jubbaland            1953731\n",
       "1    Hirshabeelle            1665021\n",
       "2      South West            1321132\n",
       "3        Galmudug             875716\n",
       "4        Puntland             420976\n",
       "5      Somaliland             386341\n",
       "6        Banaadir             274262"
      ]
     },
     "execution_count": 37,
     "metadata": {},
     "output_type": "execute_result"
    }
   ],
   "source": [
    "# another design we can print: how many individuals Departured out every state\n",
    "state_departures = df.groupby('Departure_state')[['No_of_individuals']].sum().sort_values(by='No_of_individuals', ascending=False).reset_index()\n",
    "state_departures"
   ]
  },
  {
   "cell_type": "code",
   "execution_count": 36,
   "id": "2ae815d5",
   "metadata": {},
   "outputs": [
    {
     "data": {
      "text/plain": [
       "<AxesSubplot:title={'center':'State percentage by Departures'}, ylabel='No_of_individuals'>"
      ]
     },
     "execution_count": 36,
     "metadata": {},
     "output_type": "execute_result"
    },
    {
     "data": {
      "image/png": "[encoded data removed]",
      "text/plain": [
       "<Figure size 1440x864 with 1 Axes>"
      ]
     },
     "metadata": {},
     "output_type": "display_data"
    }
   ],
   "source": [
    "# how many individuals Departured out every state chart?\n",
    "depstatespercent = df.groupby(['Departure_state'])['No_of_individuals'].sum().sort_values( ascending=False)\n",
    "depstatespercent.plot(kind='pie', y='Somali State Departure in persons', autopct='%0.1f%%', title='State percentage by Departures', fontsize=18, figsize=(20,12))"
   ]
  },
  {
   "cell_type": "markdown",
   "id": "a6e55519",
   "metadata": {},
   "source": [
    "><b>In this chart: </b>  \n",
    "`Jubbaland` and `Hirshabelle` are the most departured states fallowed by `South west` and `Galmudug.`  \n",
    "`Banaadir` is the least departured state."
   ]
  },
  {
   "cell_type": "code",
   "execution_count": 38,
   "id": "d852d11f",
   "metadata": {
    "scrolled": true
   },
   "outputs": [
    {
     "name": "stdout",
     "output_type": "stream",
     "text": [
      "Reasons: ['Drought related' 'Other' 'Conflict/Insecurity' 'Flood']\n"
     ]
    }
   ],
   "source": [
    "#what reasons do we have?\n",
    "print('Reasons: {}'.format(df['Reason'].unique()))"
   ]
  },
  {
   "cell_type": "code",
   "execution_count": 39,
   "id": "e1f0f3b7",
   "metadata": {
    "scrolled": true
   },
   "outputs": [
    {
     "data": {
      "text/html": [
       "<div>\n",
       "<style scoped>\n",
       "    .dataframe tbody tr th:only-of-type {\n",
       "        vertical-align: middle;\n",
       "    }\n",
       "\n",
       "    .dataframe tbody tr th {\n",
       "        vertical-align: top;\n",
       "    }\n",
       "\n",
       "    .dataframe thead th {\n",
       "        text-align: right;\n",
       "    }\n",
       "</style>\n",
       "<table border=\"1\" class=\"dataframe\">\n",
       "  <thead>\n",
       "    <tr style=\"text-align: right;\">\n",
       "      <th></th>\n",
       "      <th>No_of_individuals</th>\n",
       "    </tr>\n",
       "    <tr>\n",
       "      <th>Reason</th>\n",
       "      <th></th>\n",
       "    </tr>\n",
       "  </thead>\n",
       "  <tbody>\n",
       "    <tr>\n",
       "      <th>Drought related</th>\n",
       "      <td>2846093</td>\n",
       "    </tr>\n",
       "    <tr>\n",
       "      <th>Conflict/Insecurity</th>\n",
       "      <td>2211933</td>\n",
       "    </tr>\n",
       "    <tr>\n",
       "      <th>Flood</th>\n",
       "      <td>1701557</td>\n",
       "    </tr>\n",
       "    <tr>\n",
       "      <th>Other</th>\n",
       "      <td>137596</td>\n",
       "    </tr>\n",
       "  </tbody>\n",
       "</table>\n",
       "</div>"
      ],
      "text/plain": [
       "                     No_of_individuals\n",
       "Reason                                \n",
       "Drought related                2846093\n",
       "Conflict/Insecurity            2211933\n",
       "Flood                          1701557\n",
       "Other                           137596"
      ]
     },
     "execution_count": 39,
     "metadata": {},
     "output_type": "execute_result"
    }
   ],
   "source": [
    "# most reason why displaced peaple departure from their homes\n",
    "dep_reason = df.groupby('Reason')[['No_of_individuals']].sum().sort_values(by=['No_of_individuals'], ascending=False)\n",
    "dep_reason"
   ]
  },
  {
   "cell_type": "code",
   "execution_count": 40,
   "id": "60f16e8d",
   "metadata": {
    "scrolled": false
   },
   "outputs": [
    {
     "data": {
      "image/png": "[encoded data removed]",
      "text/plain": [
       "<Figure size 864x432 with 1 Axes>"
      ]
     },
     "metadata": {
      "needs_background": "light"
     },
     "output_type": "display_data"
    }
   ],
   "source": [
    "# most reason why displaced peaple departure from their homes in bar chart\n",
    "plt.figure(figsize=(12,6))\n",
    "colors= ['red', 'green', 'yellow', 'blue', 'brown']\n",
    "df.groupby(['Reason'])['No_of_individuals'].sum().sort_values( ascending=False).plot(kind='bar', color=colors, rot=0).set_title('Most reason why displaced peaple departure from their homes',fontsize=18)\n",
    "plt.grid(axis= 'y', color = 'green', linestyle = '--', linewidth = 0.50)\n",
    "plt.show()"
   ]
  },
  {
   "cell_type": "code",
   "execution_count": 41,
   "id": "628085be",
   "metadata": {
    "scrolled": false
   },
   "outputs": [
    {
     "data": {
      "text/plain": [
       "Departure_state  Reason             \n",
       "Banaadir         Drought related        1049\n",
       "                 Conflict/Insecurity     413\n",
       "                 Other                    80\n",
       "                 Flood                    68\n",
       "Galmudug         Drought related        3693\n",
       "                 Conflict/Insecurity     968\n",
       "                 Other                   423\n",
       "                 Flood                    25\n",
       "Hirshabeelle     Drought related        3353\n",
       "                 Conflict/Insecurity    1847\n",
       "                 Flood                   657\n",
       "                 Other                   230\n",
       "Jubbaland        Drought related        5935\n",
       "                 Conflict/Insecurity    5547\n",
       "                 Other                  1058\n",
       "                 Flood                   558\n",
       "Puntland         Drought related        7957\n",
       "                 Other                  1692\n",
       "                 Conflict/Insecurity     550\n",
       "                 Flood                   140\n",
       "Somaliland       Drought related        6759\n",
       "                 Other                  1712\n",
       "                 Conflict/Insecurity     565\n",
       "                 Flood                    73\n",
       "South West       Drought related        6453\n",
       "                 Conflict/Insecurity    1998\n",
       "                 Other                   468\n",
       "                 Flood                    59\n",
       "Name: Reason, dtype: int64"
      ]
     },
     "execution_count": 41,
     "metadata": {},
     "output_type": "execute_result"
    }
   ],
   "source": [
    "# most reason for every state\n",
    "reason_df = df.groupby(['Departure_state'])['Reason'].value_counts()\n",
    "reason_df"
   ]
  },
  {
   "cell_type": "code",
   "execution_count": 42,
   "id": "2e56ffcd",
   "metadata": {},
   "outputs": [
    {
     "data": {
      "image/png": "[encoded data removed]",
      "text/plain": [
       "<Figure size 1440x504 with 1 Axes>"
      ]
     },
     "metadata": {
      "needs_background": "light"
     },
     "output_type": "display_data"
    }
   ],
   "source": [
    "# most reason for every state bar chart\n",
    "(df.groupby(['Departure_state'])['Reason'].value_counts(normalize=True)*100).unstack().plot.bar(figsize=(20,7), fontsize=18).set_title('Most Reasons Causing The Displacement For Each Every State', fontsize=18)\n",
    "plt.grid(axis= 'y', color = 'green', linestyle = '--', linewidth = 0.50)"
   ]
  },
  {
   "cell_type": "markdown",
   "id": "21171bc8",
   "metadata": {},
   "source": [
    "><b>In the above results: </b>  \n",
    "Most problem that couses the displacement in every State is a `Drought.`  \n",
    "Second proplem people are facing is `Conflict/insecurity` issue.  \n",
    "`Jubbaland` is almost identical between the `Drought` effected people and the `Conflict/insecurity` effected people.  \n",
    "`Hirshabeelle` third proplem is `Flood` and it's the most Flood issue registred."
   ]
  },
  {
   "cell_type": "code",
   "execution_count": 43,
   "id": "f986df9b",
   "metadata": {
    "scrolled": true
   },
   "outputs": [
    {
     "name": "stdout",
     "output_type": "stream",
     "text": [
      "Priority needs: ['Livelihood Support' 'Protection' 'Health' 'Shelter' 'Transport' 'Food'\n",
      " 'Water' 'Other' 'Humanitarian Aid']\n"
     ]
    }
   ],
   "source": [
    "#what priority needs are in our dataset?\n",
    "print('Priority needs: {}'.format(df['Priority_need'].unique()))"
   ]
  },
  {
   "cell_type": "code",
   "execution_count": 44,
   "id": "2234ea6a",
   "metadata": {
    "scrolled": true
   },
   "outputs": [
    {
     "data": {
      "text/plain": [
       "Priority_need\n",
       "Food                  3187214\n",
       "Livelihood Support    1307969\n",
       "Shelter                948687\n",
       "Other                  615854\n",
       "Water                  293338\n",
       "Health                 234098\n",
       "Protection             155715\n",
       "Humanitarian Aid       125146\n",
       "Transport               29158\n",
       "Name: No_of_individuals, dtype: int64"
      ]
     },
     "execution_count": 44,
     "metadata": {},
     "output_type": "execute_result"
    }
   ],
   "source": [
    "# most priority needs for displaced people?\n",
    "df.groupby(['Priority_need'])['No_of_individuals'].sum().sort_values(ascending=False)"
   ]
  },
  {
   "cell_type": "code",
   "execution_count": 45,
   "id": "994b41a6",
   "metadata": {},
   "outputs": [
    {
     "data": {
      "image/png": "[encoded data removed]",
      "text/plain": [
       "<Figure size 864x504 with 1 Axes>"
      ]
     },
     "metadata": {
      "needs_background": "light"
     },
     "output_type": "display_data"
    }
   ],
   "source": [
    "# most priority needs visually bar chart\n",
    "plt.figure(figsize=(12,7))\n",
    "df.groupby(['Priority_need'])['No_of_individuals'].sum().sort_values( ascending=False).plot(kind='bar', color=colors, rot=0).set_title('Most Priority Needs',fontsize=18)\n",
    "plt.grid(axis= 'y', color = 'green', linestyle = '--', linewidth = 0.50)\n",
    "plt.show()"
   ]
  },
  {
   "cell_type": "markdown",
   "id": "aae9b6e2",
   "metadata": {},
   "source": [
    "><b>In the above chart: </b>  \n",
    "`Food` is the most priority need for the displaced people."
   ]
  },
  {
   "cell_type": "code",
   "execution_count": 46,
   "id": "b61f43a9",
   "metadata": {
    "scrolled": true
   },
   "outputs": [
    {
     "data": {
      "text/html": [
       "<div>\n",
       "<style scoped>\n",
       "    .dataframe tbody tr th:only-of-type {\n",
       "        vertical-align: middle;\n",
       "    }\n",
       "\n",
       "    .dataframe tbody tr th {\n",
       "        vertical-align: top;\n",
       "    }\n",
       "\n",
       "    .dataframe thead th {\n",
       "        text-align: right;\n",
       "    }\n",
       "</style>\n",
       "<table border=\"1\" class=\"dataframe\">\n",
       "  <thead>\n",
       "    <tr style=\"text-align: right;\">\n",
       "      <th></th>\n",
       "      <th>Year</th>\n",
       "      <th>No_of_individuals</th>\n",
       "    </tr>\n",
       "  </thead>\n",
       "  <tbody>\n",
       "    <tr>\n",
       "      <th>0</th>\n",
       "      <td>2022</td>\n",
       "      <td>1598276</td>\n",
       "    </tr>\n",
       "    <tr>\n",
       "      <th>1</th>\n",
       "      <td>2020</td>\n",
       "      <td>1335929</td>\n",
       "    </tr>\n",
       "    <tr>\n",
       "      <th>2</th>\n",
       "      <td>2017</td>\n",
       "      <td>1129744</td>\n",
       "    </tr>\n",
       "    <tr>\n",
       "      <th>3</th>\n",
       "      <td>2018</td>\n",
       "      <td>883671</td>\n",
       "    </tr>\n",
       "    <tr>\n",
       "      <th>4</th>\n",
       "      <td>2021</td>\n",
       "      <td>874037</td>\n",
       "    </tr>\n",
       "    <tr>\n",
       "      <th>5</th>\n",
       "      <td>2019</td>\n",
       "      <td>770117</td>\n",
       "    </tr>\n",
       "    <tr>\n",
       "      <th>6</th>\n",
       "      <td>2016</td>\n",
       "      <td>305405</td>\n",
       "    </tr>\n",
       "  </tbody>\n",
       "</table>\n",
       "</div>"
      ],
      "text/plain": [
       "   Year  No_of_individuals\n",
       "0  2022            1598276\n",
       "1  2020            1335929\n",
       "2  2017            1129744\n",
       "3  2018             883671\n",
       "4  2021             874037\n",
       "5  2019             770117\n",
       "6  2016             305405"
      ]
     },
     "execution_count": 46,
     "metadata": {},
     "output_type": "execute_result"
    }
   ],
   "source": [
    "# most desplaced years and their counts\n",
    "year_df = df.groupby('Year')[['No_of_individuals']].sum().sort_values(by='No_of_individuals', ascending=False).reset_index()\n",
    "year_df"
   ]
  },
  {
   "cell_type": "code",
   "execution_count": 47,
   "id": "ae2ba1ea",
   "metadata": {},
   "outputs": [
    {
     "data": {
      "image/png": "[encoded data removed]",
      "text/plain": [
       "<Figure size 720x576 with 1 Axes>"
      ]
     },
     "metadata": {
      "needs_background": "light"
     },
     "output_type": "display_data"
    }
   ],
   "source": [
    "# Years and Number of displaced persons\n",
    "df.groupby('Year')[['No_of_individuals']].sum().sort_values(by='Year', ascending=False).plot(figsize=(10, 8), style='*-', linewidth = 2.50).set_title('Number of displaced persons in Every Year',fontsize=18)\n",
    "plt.grid(axis= 'both', color = 'orange', linestyle = '--', linewidth = 0.5)\n",
    "plt.show()"
   ]
  },
  {
   "cell_type": "markdown",
   "id": "9987ec2a",
   "metadata": {},
   "source": [
    "><b>In the above result: </b>  \n",
    "`2016` is the year of least recorded displaced people.  \n",
    "`2022` is the year for most displaced people recorded.  \n",
    "`2018` and `2019` are recorded less from the previous `2017` year."
   ]
  },
  {
   "cell_type": "code",
   "execution_count": 63,
   "id": "689a969d",
   "metadata": {
    "scrolled": false
   },
   "outputs": [
    {
     "data": {
      "text/html": [
       "<div>\n",
       "<style scoped>\n",
       "    .dataframe tbody tr th:only-of-type {\n",
       "        vertical-align: middle;\n",
       "    }\n",
       "\n",
       "    .dataframe tbody tr th {\n",
       "        vertical-align: top;\n",
       "    }\n",
       "\n",
       "    .dataframe thead th {\n",
       "        text-align: right;\n",
       "    }\n",
       "</style>\n",
       "<table border=\"1\" class=\"dataframe\">\n",
       "  <thead>\n",
       "    <tr style=\"text-align: right;\">\n",
       "      <th></th>\n",
       "      <th>Month</th>\n",
       "      <th>No_of_individuals</th>\n",
       "    </tr>\n",
       "  </thead>\n",
       "  <tbody>\n",
       "    <tr>\n",
       "      <th>0</th>\n",
       "      <td>April</td>\n",
       "      <td>1079811</td>\n",
       "    </tr>\n",
       "    <tr>\n",
       "      <th>1</th>\n",
       "      <td>October</td>\n",
       "      <td>940756</td>\n",
       "    </tr>\n",
       "    <tr>\n",
       "      <th>2</th>\n",
       "      <td>May</td>\n",
       "      <td>657619</td>\n",
       "    </tr>\n",
       "    <tr>\n",
       "      <th>3</th>\n",
       "      <td>March</td>\n",
       "      <td>588212</td>\n",
       "    </tr>\n",
       "    <tr>\n",
       "      <th>4</th>\n",
       "      <td>July</td>\n",
       "      <td>566132</td>\n",
       "    </tr>\n",
       "    <tr>\n",
       "      <th>5</th>\n",
       "      <td>August</td>\n",
       "      <td>545745</td>\n",
       "    </tr>\n",
       "    <tr>\n",
       "      <th>6</th>\n",
       "      <td>September</td>\n",
       "      <td>536905</td>\n",
       "    </tr>\n",
       "    <tr>\n",
       "      <th>7</th>\n",
       "      <td>January</td>\n",
       "      <td>528282</td>\n",
       "    </tr>\n",
       "    <tr>\n",
       "      <th>8</th>\n",
       "      <td>February</td>\n",
       "      <td>441416</td>\n",
       "    </tr>\n",
       "    <tr>\n",
       "      <th>9</th>\n",
       "      <td>November</td>\n",
       "      <td>384788</td>\n",
       "    </tr>\n",
       "    <tr>\n",
       "      <th>10</th>\n",
       "      <td>June</td>\n",
       "      <td>352640</td>\n",
       "    </tr>\n",
       "    <tr>\n",
       "      <th>11</th>\n",
       "      <td>December</td>\n",
       "      <td>274873</td>\n",
       "    </tr>\n",
       "  </tbody>\n",
       "</table>\n",
       "</div>"
      ],
      "text/plain": [
       "        Month  No_of_individuals\n",
       "0       April            1079811\n",
       "1     October             940756\n",
       "2         May             657619\n",
       "3       March             588212\n",
       "4        July             566132\n",
       "5      August             545745\n",
       "6   September             536905\n",
       "7     January             528282\n",
       "8    February             441416\n",
       "9    November             384788\n",
       "10       June             352640\n",
       "11   December             274873"
      ]
     },
     "execution_count": 63,
     "metadata": {},
     "output_type": "execute_result"
    }
   ],
   "source": [
    "# most desplaced month?\n",
    "month_df = df.groupby('Month')[['No_of_individuals']].sum().sort_values(by='No_of_individuals', ascending=False).reset_index()\n",
    "month_df"
   ]
  },
  {
   "cell_type": "code",
   "execution_count": 62,
   "id": "0991defe",
   "metadata": {},
   "outputs": [
    {
     "data": {
      "image/png": "[encoded data removed]",
      "text/plain": [
       "<Figure size 1224x504 with 1 Axes>"
      ]
     },
     "metadata": {
      "needs_background": "light"
     },
     "output_type": "display_data"
    }
   ],
   "source": [
    "# most displaced month bar chart\n",
    "plt.figure(figsize=(17,7))\n",
    "df.groupby(['Month'])['No_of_individuals'].sum().sort_values( ascending=False).plot(kind='bar', color=colors, rot=0).set_title('Most Displaced Month',fontsize=18)\n",
    "plt.grid(axis= 'y', color = 'green', linestyle = '--', linewidth = 0.50)\n",
    "plt.show()"
   ]
  },
  {
   "cell_type": "markdown",
   "id": "a16e94dc",
   "metadata": {},
   "source": [
    "___\n",
    "><b>In the above result: </b>  \n",
    "`April` and `October` are the most displaced months.\n",
    "___"
   ]
  },
  {
   "cell_type": "markdown",
   "id": "474fdad7",
   "metadata": {},
   "source": [
    "***\n",
    "<b>Acording to [somali studies research](http://countrystudies.us/somalia/34.htm),</b><br><br>\n",
    "\"Somalis recognize four seasons, two rainy (gu and day) and two dry (jiilaal and hagaa). <br>The gu rains begin in April and last until June, producing a fresh supply of pasture and for a brief period turning the desert into a flowering garden.<br> Lush vegetation covers most of the land, especially the central grazing plateau where grass grows tall. Milk and meat abound, water is plentiful, and animals do not require much care. <br><br>The clans, reprieved from four months' drought, assemble to engage alternately in banter and poetic exchange or in a new cycle of hereditary feuds. They also offer sacrifices to Allah and to the founding clan ancestors, whose blessings they seek. Numerous social functions occur: marriages are contracted, outstanding disputes are settled or exacerbated, and a person's age is calculated in terms of the number of gus he or she has lived.<br><br> The gu season is followed by the hagaa drought (July-September) and the hagaa by the day rains (October-December). Next is jiilaal (January-March), the harshest season for pastoralists and their herds\"\n",
    "***"
   ]
  },
  {
   "cell_type": "markdown",
   "id": "d64c6a74",
   "metadata": {},
   "source": [
    "`Based on the above research, we can add to our dataset a new column called \"season\" by grouping the months to its revalent seasons to get more informational analysis when most people are displacing.`"
   ]
  },
  {
   "cell_type": "code",
   "execution_count": 50,
   "id": "f28d42e2",
   "metadata": {},
   "outputs": [],
   "source": [
    "# adding a new column by grouping the months\n",
    "map_season= {'January': 'Jiilaal', 'February': 'Jiilaal', 'March': 'Jiilaal', 'April': 'Gu`', 'May': 'Gu`', 'June': 'Gu`', 'July': 'Xagaay', 'August': 'Xagaay','September': 'Xagaay', 'October': 'Deyr', 'November': 'Deyr', 'December': 'Deyr'}\n",
    "df['Season'] = df.Month.map(map_season)"
   ]
  },
  {
   "cell_type": "code",
   "execution_count": 51,
   "id": "59b48cdd",
   "metadata": {},
   "outputs": [
    {
     "data": {
      "text/html": [
       "<div>\n",
       "<style scoped>\n",
       "    .dataframe tbody tr th:only-of-type {\n",
       "        vertical-align: middle;\n",
       "    }\n",
       "\n",
       "    .dataframe tbody tr th {\n",
       "        vertical-align: top;\n",
       "    }\n",
       "\n",
       "    .dataframe thead th {\n",
       "        text-align: right;\n",
       "    }\n",
       "</style>\n",
       "<table border=\"1\" class=\"dataframe\">\n",
       "  <thead>\n",
       "    <tr style=\"text-align: right;\">\n",
       "      <th></th>\n",
       "      <th>Year</th>\n",
       "      <th>Arrival_rigion</th>\n",
       "      <th>Arrival_district</th>\n",
       "      <th>Departure_region</th>\n",
       "      <th>Departure_district</th>\n",
       "      <th>Reason</th>\n",
       "      <th>Priority_need</th>\n",
       "      <th>No_of_individuals</th>\n",
       "      <th>Month</th>\n",
       "      <th>Arrival_state</th>\n",
       "      <th>Departure_state</th>\n",
       "      <th>Season</th>\n",
       "    </tr>\n",
       "    <tr>\n",
       "      <th>Year_week</th>\n",
       "      <th></th>\n",
       "      <th></th>\n",
       "      <th></th>\n",
       "      <th></th>\n",
       "      <th></th>\n",
       "      <th></th>\n",
       "      <th></th>\n",
       "      <th></th>\n",
       "      <th></th>\n",
       "      <th></th>\n",
       "      <th></th>\n",
       "      <th></th>\n",
       "    </tr>\n",
       "  </thead>\n",
       "  <tbody>\n",
       "  </tbody>\n",
       "</table>\n",
       "</div>"
      ],
      "text/plain": [
       "Empty DataFrame\n",
       "Columns: [Year, Arrival_rigion, Arrival_district, Departure_region, Departure_district, Reason, Priority_need, No_of_individuals, Month, Arrival_state, Departure_state, Season]\n",
       "Index: []"
      ]
     },
     "execution_count": 51,
     "metadata": {},
     "output_type": "execute_result"
    }
   ],
   "source": [
    "# cheking the new \"season\" column is in our dataset\n",
    "df.head(0)"
   ]
  },
  {
   "cell_type": "code",
   "execution_count": 52,
   "id": "2079b739",
   "metadata": {},
   "outputs": [],
   "source": [
    "#locating season column in third position\n",
    "df = df.loc[:, [\"Month\",\"Year\",\"Season\",\"Arrival_state\",\"Arrival_rigion\",\"Arrival_district\",\"Departure_state\",\"Departure_region\",\"Departure_district\",\"Reason\",\"Priority_need\",\"No_of_individuals\"]]"
   ]
  },
  {
   "cell_type": "code",
   "execution_count": 53,
   "id": "db3024ec",
   "metadata": {},
   "outputs": [
    {
     "data": {
      "text/html": [
       "<div>\n",
       "<style scoped>\n",
       "    .dataframe tbody tr th:only-of-type {\n",
       "        vertical-align: middle;\n",
       "    }\n",
       "\n",
       "    .dataframe tbody tr th {\n",
       "        vertical-align: top;\n",
       "    }\n",
       "\n",
       "    .dataframe thead th {\n",
       "        text-align: right;\n",
       "    }\n",
       "</style>\n",
       "<table border=\"1\" class=\"dataframe\">\n",
       "  <thead>\n",
       "    <tr style=\"text-align: right;\">\n",
       "      <th></th>\n",
       "      <th>Month</th>\n",
       "      <th>Year</th>\n",
       "      <th>Season</th>\n",
       "      <th>Arrival_state</th>\n",
       "      <th>Arrival_rigion</th>\n",
       "      <th>Arrival_district</th>\n",
       "      <th>Departure_state</th>\n",
       "      <th>Departure_region</th>\n",
       "      <th>Departure_district</th>\n",
       "      <th>Reason</th>\n",
       "      <th>Priority_need</th>\n",
       "      <th>No_of_individuals</th>\n",
       "    </tr>\n",
       "    <tr>\n",
       "      <th>Year_week</th>\n",
       "      <th></th>\n",
       "      <th></th>\n",
       "      <th></th>\n",
       "      <th></th>\n",
       "      <th></th>\n",
       "      <th></th>\n",
       "      <th></th>\n",
       "      <th></th>\n",
       "      <th></th>\n",
       "      <th></th>\n",
       "      <th></th>\n",
       "      <th></th>\n",
       "    </tr>\n",
       "  </thead>\n",
       "  <tbody>\n",
       "  </tbody>\n",
       "</table>\n",
       "</div>"
      ],
      "text/plain": [
       "Empty DataFrame\n",
       "Columns: [Month, Year, Season, Arrival_state, Arrival_rigion, Arrival_district, Departure_state, Departure_region, Departure_district, Reason, Priority_need, No_of_individuals]\n",
       "Index: []"
      ]
     },
     "execution_count": 53,
     "metadata": {},
     "output_type": "execute_result"
    }
   ],
   "source": [
    "# see is it lecated the third position\n",
    "df.head(0)"
   ]
  },
  {
   "cell_type": "code",
   "execution_count": 54,
   "id": "c73c531e",
   "metadata": {
    "scrolled": true
   },
   "outputs": [
    {
     "data": {
      "text/html": [
       "<div>\n",
       "<style scoped>\n",
       "    .dataframe tbody tr th:only-of-type {\n",
       "        vertical-align: middle;\n",
       "    }\n",
       "\n",
       "    .dataframe tbody tr th {\n",
       "        vertical-align: top;\n",
       "    }\n",
       "\n",
       "    .dataframe thead th {\n",
       "        text-align: right;\n",
       "    }\n",
       "</style>\n",
       "<table border=\"1\" class=\"dataframe\">\n",
       "  <thead>\n",
       "    <tr style=\"text-align: right;\">\n",
       "      <th></th>\n",
       "      <th>Season</th>\n",
       "      <th>No_of_individuals</th>\n",
       "    </tr>\n",
       "  </thead>\n",
       "  <tbody>\n",
       "    <tr>\n",
       "      <th>0</th>\n",
       "      <td>Gu`</td>\n",
       "      <td>2090070</td>\n",
       "    </tr>\n",
       "    <tr>\n",
       "      <th>1</th>\n",
       "      <td>Xagaay</td>\n",
       "      <td>1648782</td>\n",
       "    </tr>\n",
       "    <tr>\n",
       "      <th>2</th>\n",
       "      <td>Deyr</td>\n",
       "      <td>1600417</td>\n",
       "    </tr>\n",
       "    <tr>\n",
       "      <th>3</th>\n",
       "      <td>Jiilaal</td>\n",
       "      <td>1557910</td>\n",
       "    </tr>\n",
       "  </tbody>\n",
       "</table>\n",
       "</div>"
      ],
      "text/plain": [
       "    Season  No_of_individuals\n",
       "0      Gu`            2090070\n",
       "1   Xagaay            1648782\n",
       "2     Deyr            1600417\n",
       "3  Jiilaal            1557910"
      ]
     },
     "execution_count": 54,
     "metadata": {},
     "output_type": "execute_result"
    }
   ],
   "source": [
    "# now, check the most desplaced season\n",
    "season_df = df.groupby('Season')[['No_of_individuals']].sum().sort_values(by='No_of_individuals', ascending=False).reset_index()\n",
    "season_df"
   ]
  },
  {
   "cell_type": "code",
   "execution_count": 67,
   "id": "d2fa3acd",
   "metadata": {},
   "outputs": [
    {
     "data": {
      "image/png": "[encoded data removed]",
      "text/plain": [
       "<Figure size 864x432 with 1 Axes>"
      ]
     },
     "metadata": {
      "needs_background": "light"
     },
     "output_type": "display_data"
    }
   ],
   "source": [
    "# show Seasons and number of displaced persons in bar chart\n",
    "df.groupby('Season')[['No_of_individuals']].sum().sort_values(by='No_of_individuals', ascending=False).plot(kind='bar', color= 'orange', figsize=(12,6),fontsize=14).set_title('Seasons and number of displaced persons',fontsize=18)\n",
    "plt.grid(axis= 'y', color = 'green', linestyle = '--', linewidth = 0.50)\n",
    "plt.show()"
   ]
  },
  {
   "cell_type": "markdown",
   "id": "b0f88112",
   "metadata": {},
   "source": [
    "____\n",
    "><b>In the above result: </b>  \n",
    "We see the `gu' season (april, may and june)` is the most displaced season followed by the other theree seasons who are almost identical in numbers.\n",
    "___"
   ]
  },
  {
   "cell_type": "code",
   "execution_count": null,
   "id": "6ded727a",
   "metadata": {},
   "outputs": [],
   "source": []
  }
 ],
 "metadata": {
  "kernelspec": {
   "display_name": "Python 3 (ipykernel)",
   "language": "python",
   "name": "python3"
  },
  "language_info": {
   "codemirror_mode": {
    "name": "ipython",
    "version": 3
   },
   "file_extension": ".py",
   "mimetype": "text/x-python",
   "name": "python",
   "nbconvert_exporter": "python",
   "pygments_lexer": "ipython3",
   "version": "3.9.12"
  },
  "widgets": {
   "application/vnd.jupyter.widget-state+json": {
    "state": {},
    "version_major": 2,
    "version_minor": 0
   }
  }
 },
 "nbformat": 4,
 "nbformat_minor": 5
}
